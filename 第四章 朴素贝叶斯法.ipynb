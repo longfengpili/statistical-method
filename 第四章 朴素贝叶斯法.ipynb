{
 "cells": [
  {
   "cell_type": "markdown",
   "metadata": {},
   "source": [
    "![](./img/4_1.png)"
   ]
  },
  {
   "cell_type": "markdown",
   "metadata": {},
   "source": [
    "![](./img/4_2.png)"
   ]
  },
  {
   "cell_type": "code",
   "execution_count": 3,
   "metadata": {
    "ExecuteTime": {
     "end_time": "2019-11-17T23:26:54.628021Z",
     "start_time": "2019-11-17T23:26:54.617052Z"
    }
   },
   "outputs": [
    {
     "data": {
      "text/plain": [
       "(15, 2)"
      ]
     },
     "execution_count": 3,
     "metadata": {},
     "output_type": "execute_result"
    },
    {
     "data": {
      "text/plain": [
       "(15,)"
      ]
     },
     "execution_count": 3,
     "metadata": {},
     "output_type": "execute_result"
    }
   ],
   "source": [
    "X = np.array([[1, 'S'], [1, 'M'], [1, 'M'], [1, 'S'], [1, 'S'], [2, 'S'], [2, 'M'], [2, 'M'], \n",
    "              [2, 'L'], [2, 'L'], [3, 'L'], [3, 'M'], [3, 'M'], [3, 'L'], [3, 'L']])\n",
    "y = np.array([-1, -1, 1, 1, -1, -1, -1, 1, 1, 1, 1, 1, 1, 1, -1])\n",
    "X.shape\n",
    "y.shape"
   ]
  },
  {
   "cell_type": "code",
   "execution_count": 30,
   "metadata": {
    "ExecuteTime": {
     "end_time": "2019-11-17T23:55:51.631311Z",
     "start_time": "2019-11-17T23:55:51.623306Z"
    }
   },
   "outputs": [],
   "source": [
    "class bayes_main(object):\n",
    "    def __init__(self):\n",
    "        self.P_params = {}\n",
    "        self.y = []\n",
    "    \n",
    "    def fit(self, X, y):\n",
    "        y_counts = np.unique(y, return_counts=True)\n",
    "        features, counts = y_counts\n",
    "        self.y = features\n",
    "        for ix, f in enumerate(features):\n",
    "            self.P_params[f'y=\"{f}\"'] = counts[ix]/float(15)\n",
    "            X_ = X[y==f]\n",
    "            X_0, X_1 = X_[0], X_[0]\n",
    "            X_0_counts = np.unique(X_0, return_counts=True)\n",
    "            X0_features, X0_counts = X_0_counts\n",
    "            X_1_counts = np.unique(X_1, return_counts=True)\n",
    "            X1_features, X1_counts = X_1_counts\n",
    "            for ix, x in enumerate(X0_features):\n",
    "                self.P_params[f'x=\"{x}\"|y=\"{f}\"'] = X0_counts[ix]/float(15)\n",
    "            for ix, x in enumerate(X1_features):\n",
    "                self.P_params[f'x=\"{x}\"|y=\"{f}\"'] = X1_counts[ix]/float(15)\n",
    "        return self.P_params\n",
    "    \n",
    "    def predict(X, y):\n",
    "        for y in np.unique()"
   ]
  },
  {
   "cell_type": "code",
   "execution_count": 31,
   "metadata": {
    "ExecuteTime": {
     "end_time": "2019-11-17T23:55:52.180061Z",
     "start_time": "2019-11-17T23:55:52.174077Z"
    }
   },
   "outputs": [
    {
     "data": {
      "text/plain": [
       "{'y=\"-1\"': 0.4,\n",
       " 'x=\"1\"|y=\"-1\"': 0.06666666666666667,\n",
       " 'x=\"S\"|y=\"-1\"': 0.06666666666666667,\n",
       " 'y=\"1\"': 0.6,\n",
       " 'x=\"1\"|y=\"1\"': 0.06666666666666667,\n",
       " 'x=\"M\"|y=\"1\"': 0.06666666666666667}"
      ]
     },
     "execution_count": 31,
     "metadata": {},
     "output_type": "execute_result"
    }
   ],
   "source": [
    "by = bayes_main()\n",
    "by.fit(X, y)"
   ]
  },
  {
   "cell_type": "code",
   "execution_count": 16,
   "metadata": {
    "ExecuteTime": {
     "end_time": "2019-11-17T23:37:59.016876Z",
     "start_time": "2019-11-17T23:37:59.010867Z"
    }
   },
   "outputs": [
    {
     "data": {
      "text/plain": [
       "(array([-1,  1]), array([6, 9], dtype=int64))"
      ]
     },
     "execution_count": 16,
     "metadata": {},
     "output_type": "execute_result"
    }
   ],
   "source": [
    "y_counts = np.unique(y, return_counts=True)\n",
    "y_counts"
   ]
  },
  {
   "cell_type": "code",
   "execution_count": 21,
   "metadata": {
    "ExecuteTime": {
     "end_time": "2019-11-17T23:43:45.095396Z",
     "start_time": "2019-11-17T23:43:45.085424Z"
    }
   },
   "outputs": [
    {
     "data": {
      "text/plain": [
       "array([['1', 'S'],\n",
       "       ['1', 'M'],\n",
       "       ['1', 'S'],\n",
       "       ['2', 'S'],\n",
       "       ['2', 'M'],\n",
       "       ['3', 'L']], dtype='<U11')"
      ]
     },
     "execution_count": 21,
     "metadata": {},
     "output_type": "execute_result"
    },
    {
     "data": {
      "text/plain": [
       "array([['1', 'M'],\n",
       "       ['1', 'S'],\n",
       "       ['2', 'M'],\n",
       "       ['2', 'L'],\n",
       "       ['2', 'L'],\n",
       "       ['3', 'L'],\n",
       "       ['3', 'M'],\n",
       "       ['3', 'M'],\n",
       "       ['3', 'L']], dtype='<U11')"
      ]
     },
     "execution_count": 21,
     "metadata": {},
     "output_type": "execute_result"
    },
    {
     "data": {
      "text/plain": [
       "{}"
      ]
     },
     "execution_count": 21,
     "metadata": {},
     "output_type": "execute_result"
    }
   ],
   "source": [
    "P = {}\n",
    "features, counts = y_counts\n",
    "for ix, f in enumerate(features):\n",
    "    X_ = X[y==f]\n",
    "    y_counts = np.unique(y, return_counts=True)\n",
    "    features, counts = y_counts\n",
    "    X_\n",
    "P"
   ]
  },
  {
   "cell_type": "code",
   "execution_count": null,
   "metadata": {},
   "outputs": [],
   "source": []
  }
 ],
 "metadata": {
  "hide_input": false,
  "kernelspec": {
   "display_name": "Python 3",
   "language": "python",
   "name": "python3"
  },
  "language_info": {
   "codemirror_mode": {
    "name": "ipython",
    "version": 3
   },
   "file_extension": ".py",
   "mimetype": "text/x-python",
   "name": "python",
   "nbconvert_exporter": "python",
   "pygments_lexer": "ipython3",
   "version": "3.7.4"
  },
  "nbTranslate": {
   "displayLangs": [
    "*"
   ],
   "hotkey": "alt-t",
   "langInMainMenu": true,
   "sourceLang": "en",
   "targetLang": "fr",
   "useGoogleTranslate": true
  },
  "toc": {
   "base_numbering": 1,
   "nav_menu": {},
   "number_sections": true,
   "sideBar": true,
   "skip_h1_title": false,
   "title_cell": "Table of Contents",
   "title_sidebar": "Contents",
   "toc_cell": false,
   "toc_position": {},
   "toc_section_display": true,
   "toc_window_display": false
  },
  "varInspector": {
   "cols": {
    "lenName": 16,
    "lenType": 16,
    "lenVar": 40
   },
   "kernels_config": {
    "python": {
     "delete_cmd_postfix": "",
     "delete_cmd_prefix": "del ",
     "library": "var_list.py",
     "varRefreshCmd": "print(var_dic_list())"
    },
    "r": {
     "delete_cmd_postfix": ") ",
     "delete_cmd_prefix": "rm(",
     "library": "var_list.r",
     "varRefreshCmd": "cat(var_dic_list()) "
    }
   },
   "types_to_exclude": [
    "module",
    "function",
    "builtin_function_or_method",
    "instance",
    "_Feature"
   ],
   "window_display": false
  }
 },
 "nbformat": 4,
 "nbformat_minor": 2
}
