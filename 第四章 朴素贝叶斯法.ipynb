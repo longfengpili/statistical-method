{
 "cells": [
  {
   "cell_type": "markdown",
   "metadata": {},
   "source": [
    "![](./img/4_1.png)"
   ]
  },
  {
   "cell_type": "markdown",
   "metadata": {},
   "source": [
    "![](./img/4_2.png)"
   ]
  },
  {
   "cell_type": "markdown",
   "metadata": {},
   "source": [
    "![](./img/4_3.png)"
   ]
  },
  {
   "cell_type": "markdown",
   "metadata": {
    "ExecuteTime": {
     "end_time": "2019-11-19T23:22:35.082463Z",
     "start_time": "2019-11-19T23:22:35.045759Z"
    }
   },
   "source": [
    "![](./img/4_4.png)"
   ]
  },
  {
   "cell_type": "code",
   "execution_count": 3,
   "metadata": {
    "ExecuteTime": {
     "end_time": "2019-11-19T23:40:14.412390Z",
     "start_time": "2019-11-19T23:40:14.404887Z"
    }
   },
   "outputs": [],
   "source": [
    "X_train=np.array([\n",
    "                  [1,\"S\"],\n",
    "                  [1,\"M\"],\n",
    "                  [1,\"M\"],\n",
    "                  [1,\"S\"],\n",
    "                  [1,\"S\"],\n",
    "                  [2,\"S\"],\n",
    "                  [2,\"M\"],\n",
    "                  [2,\"M\"],\n",
    "                  [2,\"L\"],\n",
    "                  [2,\"L\"],\n",
    "                  [3,\"L\"],\n",
    "                  [3,\"M\"],\n",
    "                  [3,\"M\"],\n",
    "                  [3,\"L\"],\n",
    "                  [3,\"L\"]\n",
    "                  ])\n",
    "y_train=np.array([-1,-1,1,1,-1,-1,-1,1,1,1,1,1,1,1,-1])\n",
    "lambda_ = 0.2"
   ]
  },
  {
   "cell_type": "code",
   "execution_count": 14,
   "metadata": {
    "ExecuteTime": {
     "end_time": "2019-11-19T23:45:24.025847Z",
     "start_time": "2019-11-19T23:45:24.012953Z"
    }
   },
   "outputs": [
    {
     "name": "stdout",
     "output_type": "stream",
     "text": [
      " 1    9\n",
      "-1    6\n",
      "Name: 0, dtype: int64\n",
      "<class 'pandas.core.series.Series'>\n",
      " 1    0.597403\n",
      "-1    0.402597\n",
      "Name: 0, dtype: float64\n",
      "<class 'pandas.core.series.Series'>\n"
     ]
    }
   ],
   "source": [
    "y_types=np.unique(y_train)  #y的所有取值类型\n",
    "X=pd.DataFrame(X_train)          #转化成pandas DataFrame数据格式，下同\n",
    "y=pd.DataFrame(y_train)\n",
    "# y的（类型：数量）统计\n",
    "y_types_count=y[0].value_counts()\n",
    "# y的（类型：概率）计算\n",
    "print(y_types_count)\n",
    "print(type(y_types_count))\n",
    "y_types_proba=(y_types_count+lambda_)/(y.shape[0]+len(y_types)*lambda_)\n",
    "print(y_types_proba)\n",
    "print(type(y_types_proba))"
   ]
  },
  {
   "cell_type": "code",
   "execution_count": 13,
   "metadata": {
    "ExecuteTime": {
     "end_time": "2019-11-19T23:45:00.411355Z",
     "start_time": "2019-11-19T23:45:00.404909Z"
    }
   },
   "outputs": [
    {
     "data": {
      "text/plain": [
       " 1    9.2\n",
       "-1    6.2\n",
       "Name: 0, dtype: float64"
      ]
     },
     "execution_count": 13,
     "metadata": {},
     "output_type": "execute_result"
    }
   ],
   "source": [
    "y_types_count+lambda_"
   ]
  },
  {
   "cell_type": "code",
   "execution_count": 10,
   "metadata": {
    "ExecuteTime": {
     "end_time": "2019-11-19T23:42:04.865151Z",
     "start_time": "2019-11-19T23:42:04.844815Z"
    }
   },
   "outputs": [
    {
     "data": {
      "text/plain": [
       "{(0, '1', -1): 0.4848484848484849,\n",
       " (0, '2', -1): 0.33333333333333337,\n",
       " (0, '3', -1): 0.18181818181818182,\n",
       " (0, '3', 1): 0.43750000000000006,\n",
       " (0, '2', 1): 0.33333333333333337,\n",
       " (0, '1', 1): 0.22916666666666669,\n",
       " (1, 'S', -1): 0.4848484848484849,\n",
       " (1, 'M', -1): 0.33333333333333337,\n",
       " (1, 'L', -1): 0.18181818181818182,\n",
       " (1, 'L', 1): 0.43750000000000006,\n",
       " (1, 'M', 1): 0.43750000000000006,\n",
       " (1, 'S', 1): 0.125}"
      ]
     },
     "execution_count": 10,
     "metadata": {},
     "output_type": "execute_result"
    }
   ],
   "source": [
    "x_types_proba = {}\n",
    "# （xi 的编号,xi的取值，y的类型）：概率的计算\n",
    "for idx in X.columns:       # 遍历xi\n",
    "    for j in y_types:  # 选取每一个y的类型\n",
    "        p_x_y=X[(y==j).values][idx].value_counts() #选择所有y==j为真的数据点的第idx个特征的值，并对这些值进行（类型：数量）统计\n",
    "        for i in p_x_y.index: #计算（xi 的编号,xi的取值，y的类型）：概率\n",
    "            x_types_proba[(idx,i,j)]=(p_x_y[i]+lambda_)/(y_types_count[j]+p_x_y.shape[0]*lambda_)\n",
    "x_types_proba"
   ]
  },
  {
   "cell_type": "code",
   "execution_count": null,
   "metadata": {},
   "outputs": [],
   "source": []
  }
 ],
 "metadata": {
  "hide_input": false,
  "kernelspec": {
   "display_name": "Python 3",
   "language": "python",
   "name": "python3"
  },
  "language_info": {
   "codemirror_mode": {
    "name": "ipython",
    "version": 3
   },
   "file_extension": ".py",
   "mimetype": "text/x-python",
   "name": "python",
   "nbconvert_exporter": "python",
   "pygments_lexer": "ipython3",
   "version": "3.7.4"
  },
  "nbTranslate": {
   "displayLangs": [
    "*"
   ],
   "hotkey": "alt-t",
   "langInMainMenu": true,
   "sourceLang": "en",
   "targetLang": "fr",
   "useGoogleTranslate": true
  },
  "toc": {
   "base_numbering": 1,
   "nav_menu": {},
   "number_sections": true,
   "sideBar": true,
   "skip_h1_title": false,
   "title_cell": "Table of Contents",
   "title_sidebar": "Contents",
   "toc_cell": false,
   "toc_position": {},
   "toc_section_display": true,
   "toc_window_display": false
  },
  "varInspector": {
   "cols": {
    "lenName": 16,
    "lenType": 16,
    "lenVar": 40
   },
   "kernels_config": {
    "python": {
     "delete_cmd_postfix": "",
     "delete_cmd_prefix": "del ",
     "library": "var_list.py",
     "varRefreshCmd": "print(var_dic_list())"
    },
    "r": {
     "delete_cmd_postfix": ") ",
     "delete_cmd_prefix": "rm(",
     "library": "var_list.r",
     "varRefreshCmd": "cat(var_dic_list()) "
    }
   },
   "types_to_exclude": [
    "module",
    "function",
    "builtin_function_or_method",
    "instance",
    "_Feature"
   ],
   "window_display": false
  }
 },
 "nbformat": 4,
 "nbformat_minor": 2
}
