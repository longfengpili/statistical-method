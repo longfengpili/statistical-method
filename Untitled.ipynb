{
 "cells": [
  {
   "cell_type": "code",
   "execution_count": 1,
   "metadata": {
    "ExecuteTime": {
     "end_time": "2019-12-10T22:38:45.964561Z",
     "start_time": "2019-12-10T22:38:44.948192Z"
    }
   },
   "outputs": [],
   "source": [
    "import requests\n",
    "from mysetting import *\n",
    "import json\n",
    "import os\n",
    "from bs4 import BeautifulSoup\n",
    "import time\n",
    "import sqlite3\n",
    "import win32crypt"
   ]
  },
  {
   "cell_type": "code",
   "execution_count": 2,
   "metadata": {
    "ExecuteTime": {
     "end_time": "2019-12-10T22:38:46.026413Z",
     "start_time": "2019-12-10T22:38:45.972545Z"
    }
   },
   "outputs": [],
   "source": [
    "def get_headers(headers):\n",
    "    username = os.environ.get('USERNAME')[:5]\n",
    "    cookie_file = 'C:/Users/{UserName}/AppData/Local/Google/Chrome/User Data/Default/Cookies'.format(UserName=username)\n",
    "    conn = sqlite3.connect(cookie_file)\n",
    "    cursor = conn.cursor()\n",
    "    sql = \"SELECT encrypted_value FROM cookies where host_key = 'ai.deepshare.net' and name = 'pc_user_key';\"\n",
    "    cursor.execute(sql)\n",
    "    results = cursor.fetchone()\n",
    "    conn.close()\n",
    "    pc_user_key = win32crypt.CryptUnprotectData(results[0], None, None, None, 0)[1].decode('utf-8')#解密\n",
    "    \n",
    "    headers['Cookie'] = headers['Cookie'].replace('$pc_user_key', pc_user_key)\n",
    "    return headers\n",
    "\n",
    "def get_goods_id(goods_url):\n",
    "    goods_id_all = {}\n",
    "    headers = {\n",
    "        'User-Agent': 'Mozilla/5.0 (Windows NT 10.0; Win64; x64) AppleWebKit/537.36 (KHTML, like Gecko) Chrome/78.0.3904.70 Safari/537.36',\n",
    "    }\n",
    "    \n",
    "    req = requests.get(goods_url, headers=headers)\n",
    "    soup = BeautifulSoup(req.text)\n",
    "    results = soup.find_all(class_=\"hot-item\")\n",
    "    for result in results:\n",
    "        try:\n",
    "            goods_data = {\"page_size\":20,\"last_id\":\"\",\"resource_type\":[1,2,3,4]}\n",
    "            title = result.div.div.string.strip()\n",
    "            goods_id, goods_type = result['href'].split('/')[2], result['href'].split('/')[3]\n",
    "            goods_data['goods_id'] = goods_id\n",
    "            goods_data['goods_type'] = int(goods_type) if goods_type else 6\n",
    "            goods_data = json.dumps(goods_data)\n",
    "            goods_id_all[title] = goods_data\n",
    "        except:\n",
    "            print(result)\n",
    "    return goods_id_all\n",
    "\n",
    "def get_videoslist_from_local(dirpath):\n",
    "    return os.listdir(dirpath)\n",
    "\n",
    "def get_info_from_api(api, headers, params, data):\n",
    "    req = None\n",
    "    try:\n",
    "        req = requests.post(api, headers=headers, params=params, data=data)\n",
    "        req = json.loads(req.text)\n",
    "    except Exception as e:\n",
    "        print(f'【9】{e}\\n{req}')\n",
    "        while not req:\n",
    "            req = get_info_from_api(api, headers, params, data)\n",
    "    \n",
    "    return req\n",
    "\n",
    "def parse_goodslist(req):\n",
    "    goods_list = []\n",
    "    last_id = None\n",
    "    id = 1\n",
    "    try:\n",
    "        goodslist = req.get('data').get('goods_list')\n",
    "#         print(goodslist)\n",
    "        last_id = req.get('data').get('last_id')\n",
    "    except Exception as e:\n",
    "        print(f'【24】{e}\\n{req}')\n",
    "        \n",
    "    if goodslist:\n",
    "        selection = ['resource_id', 'resource_type', 'title', 'redirect_url']\n",
    "        for good in goodslist:\n",
    "            id += 1\n",
    "            selection_info = [good.get(key) for key in selection]\n",
    "#             selection_info = [good.get(key) for key in selection if good.get('video_length', 0) > 0]\n",
    "            if selection_info:\n",
    "                good = dict(zip(selection, selection_info))\n",
    "                goods_list.append(good)\n",
    "    \n",
    "    return goods_list, last_id\n",
    "    \n",
    "    \n",
    "def get_goodslist(url, headers, app_id, data):\n",
    "    params = {'app_id': f'{app_id}'}\n",
    "    goods_list_all = []\n",
    "    req = get_info_from_api(url, headers, params, data)\n",
    "#     print(req)\n",
    "    goods_list, last_id = parse_goodslist(req)\n",
    "    goods_list_all.extend(goods_list)\n",
    "\n",
    "    while goods_list:\n",
    "        data = json.loads(data)\n",
    "        data['last_id'] = last_id\n",
    "        data['order_type'] = 0\n",
    "        data = json.dumps(data)\n",
    "        req = get_info_from_api(url, headers, params, data)\n",
    "        goods_list, last_id = parse_goodslist(req)\n",
    "        goods_list_all.extend(goods_list)\n",
    "        \n",
    "#     if not goods_list_all: print(req)\n",
    "    \n",
    "    return goods_list_all\n",
    "\n",
    "def get_video(url, headers, good, app_id):\n",
    "#     print(url)\n",
    "    params = {'app_id': f'{app_id}'}\n",
    "    data = {}\n",
    "    data['goods_id'] = good.get('resource_id')\n",
    "    data['goods_type'] = good.get('resource_type')\n",
    "    data = json.dumps(data)\n",
    "    req_info = get_info_from_api(url, headers, params, data)\n",
    "#     print(req_info)\n",
    "    video_info = req_info.get('data')\n",
    "    return video_info\n",
    "\n",
    "def download_video(video_info, dirpath, title):\n",
    "    headers = {\n",
    "        'User-Agent': 'Mozilla/5.0 (Windows NT 10.0; Win64; x64) AppleWebKit/537.36 (KHTML, like Gecko) Chrome/78.0.3904.70 Safari/537.36',\n",
    "    }\n",
    "    m3u8_url = video_info.get('video_m3u8')\n",
    "    if m3u8_url:\n",
    "        name = f\"{dirpath}/{title}.mp4\"\n",
    "        try:\n",
    "            shell_command = f\"ffmpeg -i {m3u8_url} -c copy {name}\"\n",
    "            os.system(shell_command)\n",
    "        except Exception as e:\n",
    "            print(e)\n",
    "            print(shell_command)\n",
    "        \n",
    "def save_description(video_info, dirpath, title):\n",
    "    content = video_info.get('content')\n",
    "    with open(f'{dirpath}/{title}.html', 'w', encoding='utf-8') as f:\n",
    "        f.write(content)"
   ]
  },
  {
   "cell_type": "code",
   "execution_count": 3,
   "metadata": {
    "ExecuteTime": {
     "end_time": "2019-12-10T22:43:41.106975Z",
     "start_time": "2019-12-10T22:38:46.028388Z"
    },
    "scrolled": true
   },
   "outputs": [
    {
     "name": "stdout",
     "output_type": "stream",
     "text": [
      "================开始下载【人工智能数学基础训练营】=================\n",
      "=============开始下载【《机器学习》西瓜书训练营【第十二期】】=============\n",
      "============开始下载【李航《统计学习方法》书训练营【第六期】】=============\n",
      "==================开始下载【机器学习实战专栏】==================\n",
      "==============开始下载【《深度学习》花书训练营【第三期】】==============\n",
      "==========开始下载【斯坦福CS224n自然语言处理课训练营【第五期】】==========\n",
      "=========开始下载【李飞飞斯坦福CS231n计算机视觉课训练营【第七期】】=========\n",
      "==================开始下载【比赛实战训练营】===================\n",
      "============开始下载【人工智能Paper论文精读班（CV方向）】============\n",
      "===========开始下载【人工智能Paper论文精读班（NLP方向）】============\n"
     ]
    }
   ],
   "source": [
    "headers = get_headers(headers)\n",
    "goods_id_all = get_goods_id(goods_url)\n",
    "for title, data in goods_id_all.items():\n",
    "    print(f\"开始下载【{title}】\".center(50,'='))\n",
    "    dirpath = 'f:/深度之眼/' + title\n",
    "    try:\n",
    "        os.mkdir(dirpath)\n",
    "        print(f'{dirpath}已经创建！')\n",
    "    except Exception as e:\n",
    "        if '当文件已存在时' not in str(e):\n",
    "            print(f'【{dirpath}】{e}！')\n",
    "    goods_list = get_goodslist(main_api, headers, app_id, data)\n",
    "    for good in goods_list:\n",
    "#         print(good)\n",
    "        video = get_video(page_api, headers, good, app_id)\n",
    "        if video:\n",
    "#             print(video)\n",
    "            title = video.get('title').replace('|', ',').replace(' ','')\n",
    "            if f'{title}.html' not in get_videoslist_from_local(dirpath):\n",
    "                print(f'【下载】{title}')\n",
    "                download_video(video, dirpath, title)\n",
    "                time.sleep(1)\n",
    "                save_description(video, dirpath, title)\n",
    "            else:\n",
    "#                 print(f'【已存在】{title}')\n",
    "                pass\n",
    "\n",
    "# os.system('shutdown -s -t 60')"
   ]
  },
  {
   "cell_type": "code",
   "execution_count": null,
   "metadata": {},
   "outputs": [],
   "source": []
  }
 ],
 "metadata": {
  "hide_input": false,
  "kernelspec": {
   "display_name": "Python 3",
   "language": "python",
   "name": "python3"
  },
  "language_info": {
   "codemirror_mode": {
    "name": "ipython",
    "version": 3
   },
   "file_extension": ".py",
   "mimetype": "text/x-python",
   "name": "python",
   "nbconvert_exporter": "python",
   "pygments_lexer": "ipython3",
   "version": "3.7.4"
  },
  "nbTranslate": {
   "displayLangs": [
    "*"
   ],
   "hotkey": "alt-t",
   "langInMainMenu": true,
   "sourceLang": "en",
   "targetLang": "fr",
   "useGoogleTranslate": true
  },
  "toc": {
   "base_numbering": 1,
   "nav_menu": {},
   "number_sections": true,
   "sideBar": true,
   "skip_h1_title": false,
   "title_cell": "Table of Contents",
   "title_sidebar": "Contents",
   "toc_cell": false,
   "toc_position": {},
   "toc_section_display": true,
   "toc_window_display": false
  },
  "varInspector": {
   "cols": {
    "lenName": 16,
    "lenType": 16,
    "lenVar": 40
   },
   "kernels_config": {
    "python": {
     "delete_cmd_postfix": "",
     "delete_cmd_prefix": "del ",
     "library": "var_list.py",
     "varRefreshCmd": "print(var_dic_list())"
    },
    "r": {
     "delete_cmd_postfix": ") ",
     "delete_cmd_prefix": "rm(",
     "library": "var_list.r",
     "varRefreshCmd": "cat(var_dic_list()) "
    }
   },
   "types_to_exclude": [
    "module",
    "function",
    "builtin_function_or_method",
    "instance",
    "_Feature"
   ],
   "window_display": false
  }
 },
 "nbformat": 4,
 "nbformat_minor": 2
}
