{
 "cells": [
  {
   "cell_type": "code",
   "execution_count": 1,
   "metadata": {
    "ExecuteTime": {
     "end_time": "2019-11-28T09:29:03.937406Z",
     "start_time": "2019-11-28T09:29:03.781409Z"
    }
   },
   "outputs": [],
   "source": [
    "import requests\n",
    "from mysetting import *\n",
    "import json\n",
    "import os\n",
    "from bs4 import BeautifulSoup"
   ]
  },
  {
   "cell_type": "code",
   "execution_count": 2,
   "metadata": {
    "ExecuteTime": {
     "end_time": "2019-11-28T09:29:03.958406Z",
     "start_time": "2019-11-28T09:29:03.938405Z"
    }
   },
   "outputs": [],
   "source": [
    "def get_goods_id(goods_url):\n",
    "    goods_id_all = {}\n",
    "    headers = {\n",
    "        'User-Agent': 'Mozilla/5.0 (Windows NT 10.0; Win64; x64) AppleWebKit/537.36 (KHTML, like Gecko) Chrome/78.0.3904.70 Safari/537.36',\n",
    "    }\n",
    "    \n",
    "    req = requests.get(goods_url, headers=headers)\n",
    "    soup = BeautifulSoup(req.text)\n",
    "    results = soup.find_all(class_=\"hot-item\")\n",
    "    for result in results:\n",
    "        try:\n",
    "            goods_data = {\"page_size\":20,\"last_id\":\"\",\"resource_type\":[1,2,3,4]}\n",
    "            title = result.div.div.string.strip()\n",
    "            goods_id, goods_type = result['href'].split('/')[2], result['href'].split('/')[3]\n",
    "            goods_data['goods_id'] = goods_id\n",
    "            goods_data['goods_type'] = int(goods_type) if goods_type else 6\n",
    "            goods_data = json.dumps(goods_data)\n",
    "            goods_id_all[title] = goods_data\n",
    "        except:\n",
    "            print(result)\n",
    "    return goods_id_all\n",
    "\n",
    "def get_videoslist_from_local(dirpath):\n",
    "    return os.listdir(dirpath)\n",
    "\n",
    "def get_info_from_api(api, headers, params, data):\n",
    "    req = None\n",
    "    try:\n",
    "        req = requests.post(api, headers=headers, params=params, data=data)\n",
    "        req = json.loads(req.text)\n",
    "    except Exception as e:\n",
    "        print(f'【9】{e}\\n{req}')\n",
    "        while not req:\n",
    "            req = get_info_from_api(api, headers, params, data)\n",
    "    \n",
    "    return req\n",
    "\n",
    "def parse_goodslist(req):\n",
    "    goods_list = []\n",
    "    last_id = None\n",
    "    id = 1\n",
    "    try:\n",
    "        goodslist = req.get('data').get('goods_list')\n",
    "#         print(goodslist)\n",
    "        last_id = req.get('data').get('last_id')\n",
    "    except Exception as e:\n",
    "        print(f'【24】{e}\\n{req}')\n",
    "        \n",
    "    if goodslist:\n",
    "        selection = ['resource_id', 'resource_type', 'title', 'redirect_url']\n",
    "        for good in goodslist:\n",
    "            id += 1\n",
    "            selection_info = [good.get(key) for key in selection if good.get('video_length', 0) > 0]\n",
    "            if selection_info:\n",
    "                good = dict(zip(selection, selection_info))\n",
    "                goods_list.append(good)\n",
    "    \n",
    "    return goods_list, last_id\n",
    "    \n",
    "    \n",
    "def get_goodslist(url, headers, app_id, data):\n",
    "    params = {'app_id': f'{app_id}'}\n",
    "    goods_list_all = []\n",
    "    req = get_info_from_api(url, headers, params, data)\n",
    "#     print(req)\n",
    "    goods_list, last_id = parse_goodslist(req)\n",
    "    goods_list_all.extend(goods_list)\n",
    "\n",
    "    while goods_list:\n",
    "        data = json.loads(data)\n",
    "        data['last_id'] = last_id\n",
    "        data['order_type'] = 0\n",
    "        data = json.dumps(data)\n",
    "        req = get_info_from_api(url, headers, params, data)\n",
    "        goods_list, last_id = parse_goodslist(req)\n",
    "        goods_list_all.extend(goods_list)\n",
    "        \n",
    "#     if not goods_list_all: print(req)\n",
    "    \n",
    "    return goods_list_all\n",
    "\n",
    "def get_video(url, headers, good, app_id):\n",
    "#     print(url)\n",
    "    params = {'app_id': f'{app_id}'}\n",
    "    data = {}\n",
    "    data['goods_id'] = good.get('resource_id')\n",
    "    data['goods_type'] = good.get('resource_type')\n",
    "    data = json.dumps(data)\n",
    "    req_info = get_info_from_api(url, headers, params, data)\n",
    "#     print(req_info)\n",
    "    video_info = req_info.get('data')\n",
    "    return video_info\n",
    "\n",
    "def download_video(video_info, dirpath):\n",
    "    headers = {\n",
    "        'User-Agent': 'Mozilla/5.0 (Windows NT 10.0; Win64; x64) AppleWebKit/537.36 (KHTML, like Gecko) Chrome/78.0.3904.70 Safari/537.36',\n",
    "    }\n",
    "    title = video_info.get('title')\n",
    "    m3u8_url = video_info.get('video_m3u8')\n",
    "    name = f\"{dirpath}/{title}.mp4\"\n",
    "    shell_command = f\"cd E:\\\\ffmpeg-4.2.1-win64-static\\\\bin && ffmpeg -i {m3u8_url} -c copy {name}\"\n",
    "#     print(shell_command)\n",
    "    os.system(shell_command)\n",
    "    \n",
    "def save_description(video_info, dirpath):\n",
    "    title = video_info.get('title')\n",
    "    content = video_info.get('content')\n",
    "    with open(f'{dirpath}/{title}.html', 'w', encoding='utf-8') as f:\n",
    "        f.write(content)"
   ]
  },
  {
   "cell_type": "code",
   "execution_count": 3,
   "metadata": {
    "ExecuteTime": {
     "end_time": "2019-11-28T10:01:27.136959Z",
     "start_time": "2019-11-28T09:29:03.959405Z"
    },
    "scrolled": false
   },
   "outputs": [
    {
     "name": "stdout",
     "output_type": "stream",
     "text": [
      "=============开始下载【《机器学习》西瓜书训练营【第十二期】】=============\n",
      "e:/深度之眼/《机器学习》西瓜书训练营【第十二期】已经创建！\n",
      "============开始下载【李航《统计学习方法》书训练营【第六期】】=============\n",
      "e:/深度之眼/李航《统计学习方法》书训练营【第六期】已经创建！\n",
      "【下载】【学前准备】参加开营仪式\n",
      "cd E:\\ffmpeg-4.2.1-win64-static\\bin && ffmpeg -i http://1252524126.vod2.myqcloud.com/9764a7a5vodtransgzp1252524126/f92965145285890795364436065/drm/v.f230.m3u8 -c copy e:/深度之眼/李航《统计学习方法》书训练营【第六期】/【学前准备】参加开营仪式.mp4\n",
      "==================开始下载【机器学习实战专栏】==================\n",
      "e:/深度之眼/机器学习实战专栏已经创建！\n",
      "【下载】开营仪式回放-班主任部分\n",
      "cd E:\\ffmpeg-4.2.1-win64-static\\bin && ffmpeg -i http://1252524126.vod2.myqcloud.com/9764a7a5vodtransgzp1252524126/5a8921da5285890794790573607/drm/v.f230.m3u8 -c copy e:/深度之眼/机器学习实战专栏/开营仪式回放-班主任部分.mp4\n",
      "==============开始下载【《深度学习》花书训练营【第三期】】==============\n",
      "e:/深度之眼/《深度学习》花书训练营【第三期】已经创建！\n",
      "【下载】【学前准备】参加开营仪式\n",
      "cd E:\\ffmpeg-4.2.1-win64-static\\bin && ffmpeg -i http://1252524126.vod2.myqcloud.com/9764a7a5vodtransgzp1252524126/d2b8bcb05285890794407942350/drm/v.f230.m3u8 -c copy e:/深度之眼/《深度学习》花书训练营【第三期】/【学前准备】参加开营仪式.mp4\n",
      "==========开始下载【斯坦福CS224n自然语言处理课训练营【第五期】】==========\n",
      "e:/深度之眼/斯坦福CS224n自然语言处理课训练营【第五期】已经创建！\n",
      "【下载】【学前准备】开营仪式回放-老师部分\n",
      "cd E:\\ffmpeg-4.2.1-win64-static\\bin && ffmpeg -i http://1252524126.vod2.myqcloud.com/9764a7a5vodtransgzp1252524126/13707b565285890795432613884/drm/v.f230.m3u8 -c copy e:/深度之眼/斯坦福CS224n自然语言处理课训练营【第五期】/【学前准备】开营仪式回放-老师部分.mp4\n",
      "=========开始下载【李飞飞斯坦福CS231n计算机视觉课训练营【第七期】】=========\n",
      "e:/深度之眼/李飞飞斯坦福CS231n计算机视觉课训练营【第七期】已经创建！\n",
      "==================开始下载【比赛实战训练营】===================\n",
      "e:/深度之眼/比赛实战训练营已经创建！\n",
      "【下载】开营仪式回放—班主任部分\n",
      "cd E:\\ffmpeg-4.2.1-win64-static\\bin && ffmpeg -i http://1252524126.vod2.myqcloud.com/9764a7a5vodtransgzp1252524126/d0e006e35285890792438466969/drm/v.f230.m3u8 -c copy e:/深度之眼/比赛实战训练营/开营仪式回放—班主任部分.mp4\n",
      "============开始下载【人工智能Paper论文精读班（CV方向）】============\n",
      "e:/深度之眼/人工智能Paper论文精读班（CV方向）已经创建！\n",
      "【下载】第七篇论文Facenet——第三课时3.2\n",
      "cd E:\\ffmpeg-4.2.1-win64-static\\bin && ffmpeg -i http://1252524126.vod2.myqcloud.com/9764a7a5vodtransgzp1252524126/501c2af75285890791545883740/drm/v.f230.m3u8 -c copy e:/深度之眼/人工智能Paper论文精读班（CV方向）/第七篇论文Facenet——第三课时3.2.mp4\n",
      "===========开始下载【人工智能Paper论文精读班（NLP方向）】============\n",
      "e:/深度之眼/人工智能Paper论文精读班（NLP方向）已经创建！\n",
      "【下载】第六篇论文fasttext——第三课时下\n",
      "cd E:\\ffmpeg-4.2.1-win64-static\\bin && ffmpeg -i http://1252524126.vod2.myqcloud.com/9764a7a5vodtransgzp1252524126/e2fa2ecd5285890791428575021/drm/v.f230.m3u8 -c copy e:/深度之眼/人工智能Paper论文精读班（NLP方向）/第六篇论文fasttext——第三课时下.mp4\n"
     ]
    }
   ],
   "source": [
    "goods_id_all = get_goods_id(goods_url)\n",
    "for title, data in goods_id_all.items():\n",
    "    print(f\"开始下载【{title}】\".center(50,'='))\n",
    "    dirpath = 'e:/深度之眼/' + title\n",
    "    try:\n",
    "        os.mkdir(dirpath)\n",
    "        print(f'{dirpath}已经创建！')\n",
    "    except Exception as e:\n",
    "        if '当文件已存在时' not in str(e):\n",
    "            print(f'【{dirpath}】{e}！')\n",
    "    goods_list = get_goodslist(main_api, headers, app_id, data)\n",
    "    for good in goods_list:\n",
    "#         print(good)\n",
    "        video = get_video(page_api, headers, good, app_id)\n",
    "        if video:\n",
    "#             print(video)\n",
    "            title = video.get('title')\n",
    "            if f'{title}.html' not in get_videoslist_from_local(dirpath):\n",
    "                print(f'【下载】{title}')\n",
    "                download_video(video, dirpath)\n",
    "                save_description(video, dirpath)\n",
    "                break\n",
    "            else:\n",
    "#                 print(f'【已存在】{title}')\n",
    "                pass\n",
    "\n",
    "# os.system('shutdown -s -t 60')"
   ]
  },
  {
   "cell_type": "code",
   "execution_count": null,
   "metadata": {},
   "outputs": [],
   "source": []
  }
 ],
 "metadata": {
  "hide_input": false,
  "kernelspec": {
   "display_name": "Python 3",
   "language": "python",
   "name": "python3"
  },
  "language_info": {
   "codemirror_mode": {
    "name": "ipython",
    "version": 3
   },
   "file_extension": ".py",
   "mimetype": "text/x-python",
   "name": "python",
   "nbconvert_exporter": "python",
   "pygments_lexer": "ipython3",
   "version": "3.7.5"
  },
  "nbTranslate": {
   "displayLangs": [
    "*"
   ],
   "hotkey": "alt-t",
   "langInMainMenu": true,
   "sourceLang": "en",
   "targetLang": "fr",
   "useGoogleTranslate": true
  },
  "toc": {
   "base_numbering": 1,
   "nav_menu": {},
   "number_sections": true,
   "sideBar": true,
   "skip_h1_title": false,
   "title_cell": "Table of Contents",
   "title_sidebar": "Contents",
   "toc_cell": false,
   "toc_position": {},
   "toc_section_display": true,
   "toc_window_display": false
  },
  "varInspector": {
   "cols": {
    "lenName": 16,
    "lenType": 16,
    "lenVar": 40
   },
   "kernels_config": {
    "python": {
     "delete_cmd_postfix": "",
     "delete_cmd_prefix": "del ",
     "library": "var_list.py",
     "varRefreshCmd": "print(var_dic_list())"
    },
    "r": {
     "delete_cmd_postfix": ") ",
     "delete_cmd_prefix": "rm(",
     "library": "var_list.r",
     "varRefreshCmd": "cat(var_dic_list()) "
    }
   },
   "types_to_exclude": [
    "module",
    "function",
    "builtin_function_or_method",
    "instance",
    "_Feature"
   ],
   "window_display": false
  }
 },
 "nbformat": 4,
 "nbformat_minor": 2
}
