{
 "cells": [
  {
   "cell_type": "code",
   "execution_count": 1,
   "metadata": {
    "ExecuteTime": {
     "end_time": "2019-12-15T23:24:40.427877Z",
     "start_time": "2019-12-15T23:24:39.529803Z"
    }
   },
   "outputs": [],
   "source": [
    "import requests\n",
    "from mysetting import *\n",
    "import json\n",
    "import os\n",
    "from bs4 import BeautifulSoup\n",
    "import time\n",
    "import sqlite3\n",
    "import win32crypt"
   ]
  },
  {
   "cell_type": "code",
   "execution_count": 2,
   "metadata": {
    "ExecuteTime": {
     "end_time": "2019-12-15T23:24:40.472316Z",
     "start_time": "2019-12-15T23:24:40.432864Z"
    }
   },
   "outputs": [],
   "source": [
    "def get_headers(headers):\n",
    "    username = os.environ.get('USERNAME')[:5]\n",
    "    cookie_file = 'C:/Users/{UserName}/AppData/Local/Google/Chrome/User Data/Default/Cookies'.format(UserName=username)\n",
    "    conn = sqlite3.connect(cookie_file)\n",
    "    cursor = conn.cursor()\n",
    "    sql = \"SELECT encrypted_value FROM cookies where host_key = 'ai.deepshare.net' and name = 'pc_user_key';\"\n",
    "    cursor.execute(sql)\n",
    "    results = cursor.fetchone()\n",
    "    conn.close()\n",
    "    pc_user_key = win32crypt.CryptUnprotectData(results[0], None, None, None, 0)[1].decode('utf-8')#解密\n",
    "    \n",
    "    headers['Cookie'] = headers['Cookie'].replace('$pc_user_key', pc_user_key)\n",
    "    return headers\n",
    "\n",
    "def get_goods_id(goods_url):\n",
    "    goods_id_all = {}\n",
    "    headers = {\n",
    "        'User-Agent': 'Mozilla/5.0 (Windows NT 10.0; Win64; x64) AppleWebKit/537.36 (KHTML, like Gecko) Chrome/78.0.3904.70 Safari/537.36',\n",
    "    }\n",
    "    \n",
    "    req = requests.get(goods_url, headers=headers)\n",
    "    soup = BeautifulSoup(req.text)\n",
    "    results = soup.find_all(class_=\"hot-item\")\n",
    "    for result in results:\n",
    "        try:\n",
    "            goods_data = {\"page_size\":20,\"last_id\":\"\",\"resource_type\":[1,2,3,4]}\n",
    "            title = result.div.div.string.strip()\n",
    "            goods_id, goods_type = result['href'].split('/')[2], result['href'].split('/')[3]\n",
    "            goods_data['goods_id'] = goods_id\n",
    "            goods_data['goods_type'] = int(goods_type) if goods_type else 6\n",
    "            goods_data = json.dumps(goods_data)\n",
    "            goods_id_all[title] = goods_data\n",
    "        except:\n",
    "            print(result)\n",
    "    return goods_id_all\n",
    "\n",
    "def get_videoslist_from_local(dirpath):\n",
    "    return os.listdir(dirpath)\n",
    "\n",
    "def get_info_from_api(api, headers, params, data):\n",
    "    req = None\n",
    "    try:\n",
    "        req = requests.post(api, headers=headers, params=params, data=data)\n",
    "        req = json.loads(req.text)\n",
    "    except Exception as e:\n",
    "        print(f'【9】{e}\\n{req}')\n",
    "        while not req:\n",
    "            req = get_info_from_api(api, headers, params, data)\n",
    "    \n",
    "    return req\n",
    "\n",
    "def parse_goodslist(req):\n",
    "    goods_list = []\n",
    "    last_id = None\n",
    "    id = 1\n",
    "    try:\n",
    "        goodslist = req.get('data').get('goods_list')\n",
    "#         print(goodslist)\n",
    "        last_id = req.get('data').get('last_id')\n",
    "    except Exception as e:\n",
    "        print(f'【24】{e}\\n{req}')\n",
    "        \n",
    "    if goodslist:\n",
    "        selection = ['resource_id', 'resource_type', 'title', 'redirect_url']\n",
    "        for good in goodslist:\n",
    "            id += 1\n",
    "            selection_info = [good.get(key) for key in selection]\n",
    "#             selection_info = [good.get(key) for key in selection if good.get('video_length', 0) > 0]\n",
    "            if selection_info:\n",
    "                good = dict(zip(selection, selection_info))\n",
    "                goods_list.append(good)\n",
    "    \n",
    "    return goods_list, last_id\n",
    "    \n",
    "    \n",
    "def get_goodslist(url, headers, app_id, data):\n",
    "    params = {'app_id': f'{app_id}'}\n",
    "    goods_list_all = []\n",
    "    req = get_info_from_api(url, headers, params, data)\n",
    "#     print(req)\n",
    "    goods_list, last_id = parse_goodslist(req)\n",
    "    goods_list_all.extend(goods_list)\n",
    "\n",
    "    while goods_list:\n",
    "        data = json.loads(data)\n",
    "        data['last_id'] = last_id\n",
    "        data['order_type'] = 0\n",
    "        data = json.dumps(data)\n",
    "        req = get_info_from_api(url, headers, params, data)\n",
    "        goods_list, last_id = parse_goodslist(req)\n",
    "        goods_list_all.extend(goods_list)\n",
    "        \n",
    "#     if not goods_list_all: print(req)\n",
    "    \n",
    "    return goods_list_all\n",
    "\n",
    "def get_video(url, headers, good, app_id):\n",
    "#     print(url)\n",
    "    params = {'app_id': f'{app_id}'}\n",
    "    data = {}\n",
    "    data['goods_id'] = good.get('resource_id')\n",
    "    data['goods_type'] = good.get('resource_type')\n",
    "    data = json.dumps(data)\n",
    "    req_info = get_info_from_api(url, headers, params, data)\n",
    "#     print(req_info)\n",
    "    video_info = req_info.get('data')\n",
    "    return video_info\n",
    "\n",
    "def download_video(video_info, dirpath, title):\n",
    "    headers = {\n",
    "        'User-Agent': 'Mozilla/5.0 (Windows NT 10.0; Win64; x64) AppleWebKit/537.36 (KHTML, like Gecko) Chrome/78.0.3904.70 Safari/537.36',\n",
    "    }\n",
    "    m3u8_url = video_info.get('video_m3u8')\n",
    "    if m3u8_url:\n",
    "        name = f\"{dirpath}/{title}.mp4\"\n",
    "        try:\n",
    "            shell_command = f\"ffmpeg -i {m3u8_url} -c copy {name}\"\n",
    "            os.system(shell_command)\n",
    "        except Exception as e:\n",
    "            print(e)\n",
    "            print(shell_command)\n",
    "        \n",
    "def save_description(video_info, dirpath, title):\n",
    "    content = video_info.get('content')\n",
    "    with open(f'{dirpath}/{title}.html', 'w', encoding='utf-8') as f:\n",
    "        f.write(content)"
   ]
  },
  {
   "cell_type": "code",
   "execution_count": 3,
   "metadata": {
    "ExecuteTime": {
     "end_time": "2019-12-15T23:24:40.655221Z",
     "start_time": "2019-12-15T23:24:40.475614Z"
    },
    "scrolled": true
   },
   "outputs": [
    {
     "ename": "TypeError",
     "evalue": "'NoneType' object is not subscriptable",
     "output_type": "error",
     "traceback": [
      "\u001b[1;31m---------------------------------------------------------------------------\u001b[0m",
      "\u001b[1;31mTypeError\u001b[0m                                 Traceback (most recent call last)",
      "\u001b[1;32m<ipython-input-3-677ebb4353d1>\u001b[0m in \u001b[0;36m<module>\u001b[1;34m\u001b[0m\n\u001b[1;32m----> 1\u001b[1;33m \u001b[0mheaders\u001b[0m \u001b[1;33m=\u001b[0m \u001b[0mget_headers\u001b[0m\u001b[1;33m(\u001b[0m\u001b[0mheaders\u001b[0m\u001b[1;33m)\u001b[0m\u001b[1;33m\u001b[0m\u001b[1;33m\u001b[0m\u001b[0m\n\u001b[0m\u001b[0;32m      2\u001b[0m \u001b[0mgoods_id_all\u001b[0m \u001b[1;33m=\u001b[0m \u001b[0mget_goods_id\u001b[0m\u001b[1;33m(\u001b[0m\u001b[0mgoods_url\u001b[0m\u001b[1;33m)\u001b[0m\u001b[1;33m\u001b[0m\u001b[1;33m\u001b[0m\u001b[0m\n\u001b[0;32m      3\u001b[0m \u001b[1;32mfor\u001b[0m \u001b[0mtitle\u001b[0m\u001b[1;33m,\u001b[0m \u001b[0mdata\u001b[0m \u001b[1;32min\u001b[0m \u001b[0mgoods_id_all\u001b[0m\u001b[1;33m.\u001b[0m\u001b[0mitems\u001b[0m\u001b[1;33m(\u001b[0m\u001b[1;33m)\u001b[0m\u001b[1;33m:\u001b[0m\u001b[1;33m\u001b[0m\u001b[1;33m\u001b[0m\u001b[0m\n\u001b[0;32m      4\u001b[0m     \u001b[0mprint\u001b[0m\u001b[1;33m(\u001b[0m\u001b[1;34mf\"开始下载【{title}】\"\u001b[0m\u001b[1;33m.\u001b[0m\u001b[0mcenter\u001b[0m\u001b[1;33m(\u001b[0m\u001b[1;36m50\u001b[0m\u001b[1;33m,\u001b[0m\u001b[1;34m'='\u001b[0m\u001b[1;33m)\u001b[0m\u001b[1;33m)\u001b[0m\u001b[1;33m\u001b[0m\u001b[1;33m\u001b[0m\u001b[0m\n\u001b[0;32m      5\u001b[0m     \u001b[0mdirpath\u001b[0m \u001b[1;33m=\u001b[0m \u001b[1;34m'f:/深度之眼/'\u001b[0m \u001b[1;33m+\u001b[0m \u001b[0mtitle\u001b[0m\u001b[1;33m\u001b[0m\u001b[1;33m\u001b[0m\u001b[0m\n",
      "\u001b[1;32m<ipython-input-2-2a2a5c7ceb74>\u001b[0m in \u001b[0;36mget_headers\u001b[1;34m(headers)\u001b[0m\n\u001b[0;32m      8\u001b[0m     \u001b[0mresults\u001b[0m \u001b[1;33m=\u001b[0m \u001b[0mcursor\u001b[0m\u001b[1;33m.\u001b[0m\u001b[0mfetchone\u001b[0m\u001b[1;33m(\u001b[0m\u001b[1;33m)\u001b[0m\u001b[1;33m\u001b[0m\u001b[1;33m\u001b[0m\u001b[0m\n\u001b[0;32m      9\u001b[0m     \u001b[0mconn\u001b[0m\u001b[1;33m.\u001b[0m\u001b[0mclose\u001b[0m\u001b[1;33m(\u001b[0m\u001b[1;33m)\u001b[0m\u001b[1;33m\u001b[0m\u001b[1;33m\u001b[0m\u001b[0m\n\u001b[1;32m---> 10\u001b[1;33m     \u001b[0mpc_user_key\u001b[0m \u001b[1;33m=\u001b[0m \u001b[0mwin32crypt\u001b[0m\u001b[1;33m.\u001b[0m\u001b[0mCryptUnprotectData\u001b[0m\u001b[1;33m(\u001b[0m\u001b[0mresults\u001b[0m\u001b[1;33m[\u001b[0m\u001b[1;36m0\u001b[0m\u001b[1;33m]\u001b[0m\u001b[1;33m,\u001b[0m \u001b[1;32mNone\u001b[0m\u001b[1;33m,\u001b[0m \u001b[1;32mNone\u001b[0m\u001b[1;33m,\u001b[0m \u001b[1;32mNone\u001b[0m\u001b[1;33m,\u001b[0m \u001b[1;36m0\u001b[0m\u001b[1;33m)\u001b[0m\u001b[1;33m[\u001b[0m\u001b[1;36m1\u001b[0m\u001b[1;33m]\u001b[0m\u001b[1;33m.\u001b[0m\u001b[0mdecode\u001b[0m\u001b[1;33m(\u001b[0m\u001b[1;34m'utf-8'\u001b[0m\u001b[1;33m)\u001b[0m\u001b[1;31m#解密\u001b[0m\u001b[1;33m\u001b[0m\u001b[1;33m\u001b[0m\u001b[0m\n\u001b[0m\u001b[0;32m     11\u001b[0m \u001b[1;33m\u001b[0m\u001b[0m\n\u001b[0;32m     12\u001b[0m     \u001b[0mheaders\u001b[0m\u001b[1;33m[\u001b[0m\u001b[1;34m'Cookie'\u001b[0m\u001b[1;33m]\u001b[0m \u001b[1;33m=\u001b[0m \u001b[0mheaders\u001b[0m\u001b[1;33m[\u001b[0m\u001b[1;34m'Cookie'\u001b[0m\u001b[1;33m]\u001b[0m\u001b[1;33m.\u001b[0m\u001b[0mreplace\u001b[0m\u001b[1;33m(\u001b[0m\u001b[1;34m'$pc_user_key'\u001b[0m\u001b[1;33m,\u001b[0m \u001b[0mpc_user_key\u001b[0m\u001b[1;33m)\u001b[0m\u001b[1;33m\u001b[0m\u001b[1;33m\u001b[0m\u001b[0m\n",
      "\u001b[1;31mTypeError\u001b[0m: 'NoneType' object is not subscriptable"
     ]
    }
   ],
   "source": [
    "headers = get_headers(headers)\n",
    "goods_id_all = get_goods_id(goods_url)\n",
    "for title, data in goods_id_all.items():\n",
    "    print(f\"开始下载【{title}】\".center(50,'='))\n",
    "    dirpath = 'f:/深度之眼/' + title\n",
    "    try:\n",
    "        os.mkdir(dirpath)\n",
    "        print(f'{dirpath}已经创建！')\n",
    "    except Exception as e:\n",
    "        if '当文件已存在时' not in str(e):\n",
    "            print(f'【{dirpath}】{e}！')\n",
    "    goods_list = get_goodslist(main_api, headers, app_id, data)\n",
    "    for good in goods_list:\n",
    "#         print(good)\n",
    "        video = get_video(page_api, headers, good, app_id)\n",
    "        if video:\n",
    "#             print(video)\n",
    "            title = video.get('title').replace('|', ',').replace(' ','')\n",
    "            if f'{title}.html' not in get_videoslist_from_local(dirpath):\n",
    "                print(f'【下载】{title}')\n",
    "                download_video(video, dirpath, title)\n",
    "                time.sleep(1)\n",
    "                save_description(video, dirpath, title)\n",
    "            else:\n",
    "#                 print(f'【已存在】{title}')\n",
    "                pass\n",
    "\n",
    "# os.system('shutdown -s -t 60')"
   ]
  },
  {
   "cell_type": "code",
   "execution_count": null,
   "metadata": {},
   "outputs": [],
   "source": []
  }
 ],
 "metadata": {
  "hide_input": false,
  "kernelspec": {
   "display_name": "Python 3",
   "language": "python",
   "name": "python3"
  },
  "language_info": {
   "codemirror_mode": {
    "name": "ipython",
    "version": 3
   },
   "file_extension": ".py",
   "mimetype": "text/x-python",
   "name": "python",
   "nbconvert_exporter": "python",
   "pygments_lexer": "ipython3",
   "version": "3.7.4"
  },
  "nbTranslate": {
   "displayLangs": [
    "*"
   ],
   "hotkey": "alt-t",
   "langInMainMenu": true,
   "sourceLang": "en",
   "targetLang": "fr",
   "useGoogleTranslate": true
  },
  "toc": {
   "base_numbering": 1,
   "nav_menu": {},
   "number_sections": true,
   "sideBar": true,
   "skip_h1_title": false,
   "title_cell": "Table of Contents",
   "title_sidebar": "Contents",
   "toc_cell": false,
   "toc_position": {},
   "toc_section_display": true,
   "toc_window_display": false
  },
  "varInspector": {
   "cols": {
    "lenName": 16,
    "lenType": 16,
    "lenVar": 40
   },
   "kernels_config": {
    "python": {
     "delete_cmd_postfix": "",
     "delete_cmd_prefix": "del ",
     "library": "var_list.py",
     "varRefreshCmd": "print(var_dic_list())"
    },
    "r": {
     "delete_cmd_postfix": ") ",
     "delete_cmd_prefix": "rm(",
     "library": "var_list.r",
     "varRefreshCmd": "cat(var_dic_list()) "
    }
   },
   "types_to_exclude": [
    "module",
    "function",
    "builtin_function_or_method",
    "instance",
    "_Feature"
   ],
   "window_display": false
  }
 },
 "nbformat": 4,
 "nbformat_minor": 2
}
