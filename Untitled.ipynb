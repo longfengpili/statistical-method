{
 "cells": [
  {
   "cell_type": "code",
   "execution_count": 1,
   "metadata": {
    "ExecuteTime": {
     "end_time": "2019-11-06T23:23:10.739017Z",
     "start_time": "2019-11-06T23:23:10.626319Z"
    }
   },
   "outputs": [],
   "source": [
    "import requests\n",
    "from mysetting import *\n",
    "import json\n",
    "import os"
   ]
  },
  {
   "cell_type": "code",
   "execution_count": 2,
   "metadata": {
    "ExecuteTime": {
     "end_time": "2019-11-06T23:23:10.760954Z",
     "start_time": "2019-11-06T23:23:10.741008Z"
    }
   },
   "outputs": [],
   "source": [
    "def get_videoslist_from_local(dirpath):\n",
    "    return os.listdir(dirpath)\n",
    "    \n",
    "def get_goodslist(url, app_id, data):\n",
    "    params = {'app_id': f'{app_id}'}\n",
    "    goods_list = []\n",
    "    req = requests.post(url, headers=headers, params=params, data=data)\n",
    "    req = json.loads(req.text)\n",
    "    goodslist = req.get('data').get('goods_list')\n",
    "    selection = ['resource_id', 'resource_type', 'title', 'redirect_url']\n",
    "    for good in goodslist:\n",
    "#         print(good)\n",
    "        selection_info = [good.get(key) for key in selection if good.get('video_length', 0) > 0]\n",
    "        good = dict(zip(selection, selection_info))\n",
    "        goods_list.append(good)\n",
    "    return goods_list\n",
    "\n",
    "def get_video(url, good, app_id):\n",
    "#     print(url)\n",
    "    params = {'app_id': f'{app_id}'}\n",
    "    data = {}\n",
    "    data['goods_id'] = good.get('resource_id')\n",
    "    data['goods_type'] = good.get('resource_type')\n",
    "    data = json.dumps(data)\n",
    "    req = requests.post(url, headers=headers, params=params, data=data)\n",
    "    req_info = json.loads(req.text)\n",
    "#     print(req_info)\n",
    "    video_info = req_info.get('data')\n",
    "    return video_info\n",
    "\n",
    "def download_video(video_info, dirpath):\n",
    "    headers = {\n",
    "        'User-Agent': 'Mozilla/5.0 (Windows NT 10.0; Win64; x64) AppleWebKit/537.36 (KHTML, like Gecko) Chrome/78.0.3904.70 Safari/537.36',\n",
    "    }\n",
    "    title = video_info.get('title')\n",
    "    url = video_info.get('video_url')\n",
    "#     print(title)\n",
    "    req = requests.get(url=url, headers=headers, stream=True)\n",
    "    with open(f'{dirpath}/{title}.mp4', 'wb') as f:\n",
    "        for chunk in req.iter_content(chunk_size=1024*1024*2):  #2M\n",
    "            if chunk: # filter out keep-alive new chunks\n",
    "                f.write(chunk)\n",
    "                f.flush()\n",
    "def save_description(video_info, dirpath):\n",
    "    description = video_info.get('seo_description')\n",
    "    title = video_info.get('title')\n",
    "    description = json.loads(description)\n",
    "#     print(description)\n",
    "    descriptions = []\n",
    "    for desc in description:\n",
    "#         print(desc)\n",
    "        if desc['type'] == 0:\n",
    "            value =desc.get('value')\n",
    "#             if '任务简介' in value:\n",
    "#                 print(value)\n",
    "            try:\n",
    "                t, v = value.split('：', 1)\n",
    "            except:\n",
    "                t = 'temp_title'\n",
    "                v = value\n",
    "            descriptions.append(f'<h1>{t}</h1><p>{v}</p>')\n",
    "        elif desc['type'] == 1:\n",
    "            img_url = desc.get('value')\n",
    "            img_name = img_url.split('/')[-1]\n",
    "            req = requests.get(url=img_url)\n",
    "            with open(f'{dirpath}/img/{img_name}', 'wb') as f:\n",
    "                f.write(req.content)\n",
    "            descriptions.append(f'<img src=\"./img/{img_name}\" alt=\"{img_name}\" />')\n",
    "    descriptions = '\\n'.join(descriptions)\n",
    "    html = f'''\n",
    "        <!DOCTYPE html>\n",
    "        <html lang=\"en\">\n",
    "        <head>\n",
    "            <meta charset=\"UTF-8\">\n",
    "            <title>{title}</title>\n",
    "        </head>\n",
    "        <body>\n",
    "        {descriptions}\n",
    "        </body> \n",
    "        </html>'''\n",
    "#     print(html)\n",
    "        \n",
    "    with open(f'{dirpath}/{title}.html', 'w', encoding='utf-8') as f:\n",
    "        f.write(html)"
   ]
  },
  {
   "cell_type": "code",
   "execution_count": 3,
   "metadata": {
    "ExecuteTime": {
     "end_time": "2019-11-06T23:57:59.477612Z",
     "start_time": "2019-11-06T23:23:10.762949Z"
    },
    "scrolled": false
   },
   "outputs": [
    {
     "name": "stdout",
     "output_type": "stream",
     "text": [
      "================开始下载ai_python_base================\n",
      "f:/深度之眼/ai_python_base已经存在！\n",
      "https://ai.deepshare.net/api/xe.goods.detail.get/2.0.0\n",
      "https://ai.deepshare.net/api/xe.goods.detail.get/2.0.0\n",
      "https://ai.deepshare.net/api/xe.goods.detail.get/2.0.0\n",
      "【下载】第一章 绪论和环境配置\n",
      "https://ai.deepshare.net/api/xe.goods.detail.get/2.0.0\n",
      "【下载】【作业讲解】第一章：助教实际演示配置环境过程\n",
      "https://ai.deepshare.net/api/xe.goods.detail.get/2.0.0\n",
      "【下载】第二章 Python 基本语法元素\n",
      "https://ai.deepshare.net/api/xe.goods.detail.get/2.0.0\n",
      "【下载】【作业讲解】第二章：Python基本语法元素\n",
      "https://ai.deepshare.net/api/xe.goods.detail.get/2.0.0\n",
      "【下载】第三章 基本数据类型\n",
      "https://ai.deepshare.net/api/xe.goods.detail.get/2.0.0\n",
      "【下载】【作业讲解】第三章：基本数据类型\n",
      "https://ai.deepshare.net/api/xe.goods.detail.get/2.0.0\n",
      "【下载】第四章 组合数据类型\n",
      "https://ai.deepshare.net/api/xe.goods.detail.get/2.0.0\n",
      "【下载】【作业讲解】第四章：复杂数据类型\n",
      "https://ai.deepshare.net/api/xe.goods.detail.get/2.0.0\n",
      "【下载】第五章 程序控制结构\n",
      "https://ai.deepshare.net/api/xe.goods.detail.get/2.0.0\n",
      "【下载】【作业讲解】第五章：程序控制结构\n",
      "https://ai.deepshare.net/api/xe.goods.detail.get/2.0.0\n",
      "【下载】第六章 函数-面向过程的编程\n",
      "https://ai.deepshare.net/api/xe.goods.detail.get/2.0.0\n",
      "【下载】【作业讲解】第六章：函数\n",
      "https://ai.deepshare.net/api/xe.goods.detail.get/2.0.0\n",
      "【下载】第七章 类-面向对象的编程\n",
      "https://ai.deepshare.net/api/xe.goods.detail.get/2.0.0\n",
      "【下载】【作业讲解】第七章：类\n",
      "https://ai.deepshare.net/api/xe.goods.detail.get/2.0.0\n",
      "【下载】第八章 文件、异常和模块\n",
      "https://ai.deepshare.net/api/xe.goods.detail.get/2.0.0\n",
      "【下载】【作业讲解】第八章：文件、异常和模块\n",
      "https://ai.deepshare.net/api/xe.goods.detail.get/2.0.0\n",
      "【下载】第九章 有益的探索\n",
      "https://ai.deepshare.net/api/xe.goods.detail.get/2.0.0\n",
      "【下载】【作业讲解】第九章：有益的探索\n",
      "==============开始下载stanford_CS224n_cv==============\n",
      "f:/深度之眼/stanford_CS224n_cv已经存在！\n",
      "https://ai.deepshare.net/api/xe.goods.detail.get/2.0.0\n",
      "https://ai.deepshare.net/api/xe.goods.detail.get/2.0.0\n",
      "https://ai.deepshare.net/api/xe.goods.detail.get/2.0.0\n",
      "https://ai.deepshare.net/api/xe.goods.detail.get/2.0.0\n",
      "https://ai.deepshare.net/api/xe.goods.detail.get/2.0.0\n",
      "【下载】【学前准备】开营仪式回放-老师部分\n",
      "https://ai.deepshare.net/api/xe.goods.detail.get/2.0.0\n",
      "【下载】【学前准备】开营仪式回放-毛老师部分\n",
      "https://ai.deepshare.net/api/xe.goods.detail.get/2.0.0\n",
      "【下载】第一周【任务1】：学习CS224n第一课和课程导学\n",
      "https://ai.deepshare.net/api/xe.goods.detail.get/2.0.0\n",
      "【下载】第一周【作业讲解】：assignment1讲解\n",
      "https://ai.deepshare.net/api/xe.goods.detail.get/2.0.0\n",
      "【下载】第一周【任务2】：打达观杯NLP比赛（报名指导和入门指导）\n",
      "https://ai.deepshare.net/api/xe.goods.detail.get/2.0.0\n",
      "【下载】第一周【任务3】：学习CS224n第二课和重难点讲解视频\n",
      "==================开始下载paper_nlp===================\n",
      "f:/深度之眼/paper_nlp已经存在！\n",
      "https://ai.deepshare.net/api/xe.goods.detail.get/2.0.0\n",
      "https://ai.deepshare.net/api/xe.goods.detail.get/2.0.0\n",
      "https://ai.deepshare.net/api/xe.goods.detail.get/2.0.0\n",
      "https://ai.deepshare.net/api/xe.goods.detail.get/2.0.0\n",
      "https://ai.deepshare.net/api/xe.goods.detail.get/2.0.0\n",
      "【下载】第六篇论文fasttext——第三课时下\n",
      "https://ai.deepshare.net/api/xe.goods.detail.get/2.0.0\n",
      "【下载】第六篇论文fasttext——第三课时上\n",
      "https://ai.deepshare.net/api/xe.goods.detail.get/2.0.0\n",
      "【下载】第六篇论文fasttext——第二课时下\n",
      "https://ai.deepshare.net/api/xe.goods.detail.get/2.0.0\n",
      "【下载】第六篇论文fasttext——第二课时上\n",
      "https://ai.deepshare.net/api/xe.goods.detail.get/2.0.0\n",
      "【下载】第六篇论文fasttext——第一课时\n",
      "https://ai.deepshare.net/api/xe.goods.detail.get/2.0.0\n",
      "https://ai.deepshare.net/api/xe.goods.detail.get/2.0.0\n",
      "https://ai.deepshare.net/api/xe.goods.detail.get/2.0.0\n",
      "【下载】第五篇论文词向量——第三课时\n"
     ]
    },
    {
     "ename": "KeyboardInterrupt",
     "evalue": "",
     "output_type": "error",
     "traceback": [
      "\u001b[1;31m---------------------------------------------------------------------------\u001b[0m",
      "\u001b[1;31mKeyboardInterrupt\u001b[0m                         Traceback (most recent call last)",
      "\u001b[1;32m<ipython-input-3-4f9fa277b03a>\u001b[0m in \u001b[0;36m<module>\u001b[1;34m\u001b[0m\n\u001b[0;32m     15\u001b[0m             \u001b[1;32mif\u001b[0m \u001b[1;34mf'{title}.mp4'\u001b[0m \u001b[1;32mnot\u001b[0m \u001b[1;32min\u001b[0m \u001b[0mget_videoslist_from_local\u001b[0m\u001b[1;33m(\u001b[0m\u001b[0mdirpath\u001b[0m\u001b[1;33m)\u001b[0m\u001b[1;33m:\u001b[0m\u001b[1;33m\u001b[0m\u001b[1;33m\u001b[0m\u001b[0m\n\u001b[0;32m     16\u001b[0m                 \u001b[0mprint\u001b[0m\u001b[1;33m(\u001b[0m\u001b[1;34mf'【下载】{title}'\u001b[0m\u001b[1;33m)\u001b[0m\u001b[1;33m\u001b[0m\u001b[1;33m\u001b[0m\u001b[0m\n\u001b[1;32m---> 17\u001b[1;33m                 \u001b[0mdownload_video\u001b[0m\u001b[1;33m(\u001b[0m\u001b[0mvideo\u001b[0m\u001b[1;33m,\u001b[0m \u001b[0mdirpath\u001b[0m\u001b[1;33m)\u001b[0m\u001b[1;33m\u001b[0m\u001b[1;33m\u001b[0m\u001b[0m\n\u001b[0m\u001b[0;32m     18\u001b[0m                 \u001b[0msave_description\u001b[0m\u001b[1;33m(\u001b[0m\u001b[0mvideo\u001b[0m\u001b[1;33m,\u001b[0m \u001b[0mdirpath\u001b[0m\u001b[1;33m)\u001b[0m\u001b[1;33m\u001b[0m\u001b[1;33m\u001b[0m\u001b[0m\n\u001b[0;32m     19\u001b[0m             \u001b[1;32melse\u001b[0m\u001b[1;33m:\u001b[0m\u001b[1;33m\u001b[0m\u001b[1;33m\u001b[0m\u001b[0m\n",
      "\u001b[1;32m<ipython-input-2-a718f96c59f1>\u001b[0m in \u001b[0;36mdownload_video\u001b[1;34m(video_info, dirpath)\u001b[0m\n\u001b[0;32m     38\u001b[0m     \u001b[0mreq\u001b[0m \u001b[1;33m=\u001b[0m \u001b[0mrequests\u001b[0m\u001b[1;33m.\u001b[0m\u001b[0mget\u001b[0m\u001b[1;33m(\u001b[0m\u001b[0murl\u001b[0m\u001b[1;33m=\u001b[0m\u001b[0murl\u001b[0m\u001b[1;33m,\u001b[0m \u001b[0mheaders\u001b[0m\u001b[1;33m=\u001b[0m\u001b[0mheaders\u001b[0m\u001b[1;33m,\u001b[0m \u001b[0mstream\u001b[0m\u001b[1;33m=\u001b[0m\u001b[1;32mTrue\u001b[0m\u001b[1;33m)\u001b[0m\u001b[1;33m\u001b[0m\u001b[1;33m\u001b[0m\u001b[0m\n\u001b[0;32m     39\u001b[0m     \u001b[1;32mwith\u001b[0m \u001b[0mopen\u001b[0m\u001b[1;33m(\u001b[0m\u001b[1;34mf'{dirpath}/{title}.mp4'\u001b[0m\u001b[1;33m,\u001b[0m \u001b[1;34m'wb'\u001b[0m\u001b[1;33m)\u001b[0m \u001b[1;32mas\u001b[0m \u001b[0mf\u001b[0m\u001b[1;33m:\u001b[0m\u001b[1;33m\u001b[0m\u001b[1;33m\u001b[0m\u001b[0m\n\u001b[1;32m---> 40\u001b[1;33m         \u001b[1;32mfor\u001b[0m \u001b[0mchunk\u001b[0m \u001b[1;32min\u001b[0m \u001b[0mreq\u001b[0m\u001b[1;33m.\u001b[0m\u001b[0miter_content\u001b[0m\u001b[1;33m(\u001b[0m\u001b[0mchunk_size\u001b[0m\u001b[1;33m=\u001b[0m\u001b[1;36m1024\u001b[0m\u001b[1;33m*\u001b[0m\u001b[1;36m1024\u001b[0m\u001b[1;33m*\u001b[0m\u001b[1;36m2\u001b[0m\u001b[1;33m)\u001b[0m\u001b[1;33m:\u001b[0m  \u001b[1;31m#2M\u001b[0m\u001b[1;33m\u001b[0m\u001b[1;33m\u001b[0m\u001b[0m\n\u001b[0m\u001b[0;32m     41\u001b[0m             \u001b[1;32mif\u001b[0m \u001b[0mchunk\u001b[0m\u001b[1;33m:\u001b[0m \u001b[1;31m# filter out keep-alive new chunks\u001b[0m\u001b[1;33m\u001b[0m\u001b[1;33m\u001b[0m\u001b[0m\n\u001b[0;32m     42\u001b[0m                 \u001b[0mf\u001b[0m\u001b[1;33m.\u001b[0m\u001b[0mwrite\u001b[0m\u001b[1;33m(\u001b[0m\u001b[0mchunk\u001b[0m\u001b[1;33m)\u001b[0m\u001b[1;33m\u001b[0m\u001b[1;33m\u001b[0m\u001b[0m\n",
      "\u001b[1;32mf:\\ProgramData\\Anaconda3\\envs\\normal\\lib\\site-packages\\requests\\models.py\u001b[0m in \u001b[0;36mgenerate\u001b[1;34m()\u001b[0m\n\u001b[0;32m    748\u001b[0m             \u001b[1;32mif\u001b[0m \u001b[0mhasattr\u001b[0m\u001b[1;33m(\u001b[0m\u001b[0mself\u001b[0m\u001b[1;33m.\u001b[0m\u001b[0mraw\u001b[0m\u001b[1;33m,\u001b[0m \u001b[1;34m'stream'\u001b[0m\u001b[1;33m)\u001b[0m\u001b[1;33m:\u001b[0m\u001b[1;33m\u001b[0m\u001b[1;33m\u001b[0m\u001b[0m\n\u001b[0;32m    749\u001b[0m                 \u001b[1;32mtry\u001b[0m\u001b[1;33m:\u001b[0m\u001b[1;33m\u001b[0m\u001b[1;33m\u001b[0m\u001b[0m\n\u001b[1;32m--> 750\u001b[1;33m                     \u001b[1;32mfor\u001b[0m \u001b[0mchunk\u001b[0m \u001b[1;32min\u001b[0m \u001b[0mself\u001b[0m\u001b[1;33m.\u001b[0m\u001b[0mraw\u001b[0m\u001b[1;33m.\u001b[0m\u001b[0mstream\u001b[0m\u001b[1;33m(\u001b[0m\u001b[0mchunk_size\u001b[0m\u001b[1;33m,\u001b[0m \u001b[0mdecode_content\u001b[0m\u001b[1;33m=\u001b[0m\u001b[1;32mTrue\u001b[0m\u001b[1;33m)\u001b[0m\u001b[1;33m:\u001b[0m\u001b[1;33m\u001b[0m\u001b[1;33m\u001b[0m\u001b[0m\n\u001b[0m\u001b[0;32m    751\u001b[0m                         \u001b[1;32myield\u001b[0m \u001b[0mchunk\u001b[0m\u001b[1;33m\u001b[0m\u001b[1;33m\u001b[0m\u001b[0m\n\u001b[0;32m    752\u001b[0m                 \u001b[1;32mexcept\u001b[0m \u001b[0mProtocolError\u001b[0m \u001b[1;32mas\u001b[0m \u001b[0me\u001b[0m\u001b[1;33m:\u001b[0m\u001b[1;33m\u001b[0m\u001b[1;33m\u001b[0m\u001b[0m\n",
      "\u001b[1;32mf:\\ProgramData\\Anaconda3\\envs\\normal\\lib\\site-packages\\urllib3\\response.py\u001b[0m in \u001b[0;36mstream\u001b[1;34m(self, amt, decode_content)\u001b[0m\n\u001b[0;32m    492\u001b[0m         \u001b[1;32melse\u001b[0m\u001b[1;33m:\u001b[0m\u001b[1;33m\u001b[0m\u001b[1;33m\u001b[0m\u001b[0m\n\u001b[0;32m    493\u001b[0m             \u001b[1;32mwhile\u001b[0m \u001b[1;32mnot\u001b[0m \u001b[0mis_fp_closed\u001b[0m\u001b[1;33m(\u001b[0m\u001b[0mself\u001b[0m\u001b[1;33m.\u001b[0m\u001b[0m_fp\u001b[0m\u001b[1;33m)\u001b[0m\u001b[1;33m:\u001b[0m\u001b[1;33m\u001b[0m\u001b[1;33m\u001b[0m\u001b[0m\n\u001b[1;32m--> 494\u001b[1;33m                 \u001b[0mdata\u001b[0m \u001b[1;33m=\u001b[0m \u001b[0mself\u001b[0m\u001b[1;33m.\u001b[0m\u001b[0mread\u001b[0m\u001b[1;33m(\u001b[0m\u001b[0mamt\u001b[0m\u001b[1;33m=\u001b[0m\u001b[0mamt\u001b[0m\u001b[1;33m,\u001b[0m \u001b[0mdecode_content\u001b[0m\u001b[1;33m=\u001b[0m\u001b[0mdecode_content\u001b[0m\u001b[1;33m)\u001b[0m\u001b[1;33m\u001b[0m\u001b[1;33m\u001b[0m\u001b[0m\n\u001b[0m\u001b[0;32m    495\u001b[0m \u001b[1;33m\u001b[0m\u001b[0m\n\u001b[0;32m    496\u001b[0m                 \u001b[1;32mif\u001b[0m \u001b[0mdata\u001b[0m\u001b[1;33m:\u001b[0m\u001b[1;33m\u001b[0m\u001b[1;33m\u001b[0m\u001b[0m\n",
      "\u001b[1;32mf:\\ProgramData\\Anaconda3\\envs\\normal\\lib\\site-packages\\urllib3\\response.py\u001b[0m in \u001b[0;36mread\u001b[1;34m(self, amt, decode_content, cache_content)\u001b[0m\n\u001b[0;32m    440\u001b[0m             \u001b[1;32melse\u001b[0m\u001b[1;33m:\u001b[0m\u001b[1;33m\u001b[0m\u001b[1;33m\u001b[0m\u001b[0m\n\u001b[0;32m    441\u001b[0m                 \u001b[0mcache_content\u001b[0m \u001b[1;33m=\u001b[0m \u001b[1;32mFalse\u001b[0m\u001b[1;33m\u001b[0m\u001b[1;33m\u001b[0m\u001b[0m\n\u001b[1;32m--> 442\u001b[1;33m                 \u001b[0mdata\u001b[0m \u001b[1;33m=\u001b[0m \u001b[0mself\u001b[0m\u001b[1;33m.\u001b[0m\u001b[0m_fp\u001b[0m\u001b[1;33m.\u001b[0m\u001b[0mread\u001b[0m\u001b[1;33m(\u001b[0m\u001b[0mamt\u001b[0m\u001b[1;33m)\u001b[0m\u001b[1;33m\u001b[0m\u001b[1;33m\u001b[0m\u001b[0m\n\u001b[0m\u001b[0;32m    443\u001b[0m                 \u001b[1;32mif\u001b[0m \u001b[0mamt\u001b[0m \u001b[1;33m!=\u001b[0m \u001b[1;36m0\u001b[0m \u001b[1;32mand\u001b[0m \u001b[1;32mnot\u001b[0m \u001b[0mdata\u001b[0m\u001b[1;33m:\u001b[0m  \u001b[1;31m# Platform-specific: Buggy versions of Python.\u001b[0m\u001b[1;33m\u001b[0m\u001b[1;33m\u001b[0m\u001b[0m\n\u001b[0;32m    444\u001b[0m                     \u001b[1;31m# Close the connection when no data is returned\u001b[0m\u001b[1;33m\u001b[0m\u001b[1;33m\u001b[0m\u001b[1;33m\u001b[0m\u001b[0m\n",
      "\u001b[1;32mf:\\ProgramData\\Anaconda3\\envs\\normal\\lib\\http\\client.py\u001b[0m in \u001b[0;36mread\u001b[1;34m(self, amt)\u001b[0m\n\u001b[0;32m    455\u001b[0m             \u001b[1;31m# Amount is given, implement using readinto\u001b[0m\u001b[1;33m\u001b[0m\u001b[1;33m\u001b[0m\u001b[1;33m\u001b[0m\u001b[0m\n\u001b[0;32m    456\u001b[0m             \u001b[0mb\u001b[0m \u001b[1;33m=\u001b[0m \u001b[0mbytearray\u001b[0m\u001b[1;33m(\u001b[0m\u001b[0mamt\u001b[0m\u001b[1;33m)\u001b[0m\u001b[1;33m\u001b[0m\u001b[1;33m\u001b[0m\u001b[0m\n\u001b[1;32m--> 457\u001b[1;33m             \u001b[0mn\u001b[0m \u001b[1;33m=\u001b[0m \u001b[0mself\u001b[0m\u001b[1;33m.\u001b[0m\u001b[0mreadinto\u001b[0m\u001b[1;33m(\u001b[0m\u001b[0mb\u001b[0m\u001b[1;33m)\u001b[0m\u001b[1;33m\u001b[0m\u001b[1;33m\u001b[0m\u001b[0m\n\u001b[0m\u001b[0;32m    458\u001b[0m             \u001b[1;32mreturn\u001b[0m \u001b[0mmemoryview\u001b[0m\u001b[1;33m(\u001b[0m\u001b[0mb\u001b[0m\u001b[1;33m)\u001b[0m\u001b[1;33m[\u001b[0m\u001b[1;33m:\u001b[0m\u001b[0mn\u001b[0m\u001b[1;33m]\u001b[0m\u001b[1;33m.\u001b[0m\u001b[0mtobytes\u001b[0m\u001b[1;33m(\u001b[0m\u001b[1;33m)\u001b[0m\u001b[1;33m\u001b[0m\u001b[1;33m\u001b[0m\u001b[0m\n\u001b[0;32m    459\u001b[0m         \u001b[1;32melse\u001b[0m\u001b[1;33m:\u001b[0m\u001b[1;33m\u001b[0m\u001b[1;33m\u001b[0m\u001b[0m\n",
      "\u001b[1;32mf:\\ProgramData\\Anaconda3\\envs\\normal\\lib\\http\\client.py\u001b[0m in \u001b[0;36mreadinto\u001b[1;34m(self, b)\u001b[0m\n\u001b[0;32m    499\u001b[0m         \u001b[1;31m# connection, and the user is reading more bytes than will be provided\u001b[0m\u001b[1;33m\u001b[0m\u001b[1;33m\u001b[0m\u001b[1;33m\u001b[0m\u001b[0m\n\u001b[0;32m    500\u001b[0m         \u001b[1;31m# (for example, reading in 1k chunks)\u001b[0m\u001b[1;33m\u001b[0m\u001b[1;33m\u001b[0m\u001b[1;33m\u001b[0m\u001b[0m\n\u001b[1;32m--> 501\u001b[1;33m         \u001b[0mn\u001b[0m \u001b[1;33m=\u001b[0m \u001b[0mself\u001b[0m\u001b[1;33m.\u001b[0m\u001b[0mfp\u001b[0m\u001b[1;33m.\u001b[0m\u001b[0mreadinto\u001b[0m\u001b[1;33m(\u001b[0m\u001b[0mb\u001b[0m\u001b[1;33m)\u001b[0m\u001b[1;33m\u001b[0m\u001b[1;33m\u001b[0m\u001b[0m\n\u001b[0m\u001b[0;32m    502\u001b[0m         \u001b[1;32mif\u001b[0m \u001b[1;32mnot\u001b[0m \u001b[0mn\u001b[0m \u001b[1;32mand\u001b[0m \u001b[0mb\u001b[0m\u001b[1;33m:\u001b[0m\u001b[1;33m\u001b[0m\u001b[1;33m\u001b[0m\u001b[0m\n\u001b[0;32m    503\u001b[0m             \u001b[1;31m# Ideally, we would raise IncompleteRead if the content-length\u001b[0m\u001b[1;33m\u001b[0m\u001b[1;33m\u001b[0m\u001b[1;33m\u001b[0m\u001b[0m\n",
      "\u001b[1;32mf:\\ProgramData\\Anaconda3\\envs\\normal\\lib\\socket.py\u001b[0m in \u001b[0;36mreadinto\u001b[1;34m(self, b)\u001b[0m\n\u001b[0;32m    587\u001b[0m         \u001b[1;32mwhile\u001b[0m \u001b[1;32mTrue\u001b[0m\u001b[1;33m:\u001b[0m\u001b[1;33m\u001b[0m\u001b[1;33m\u001b[0m\u001b[0m\n\u001b[0;32m    588\u001b[0m             \u001b[1;32mtry\u001b[0m\u001b[1;33m:\u001b[0m\u001b[1;33m\u001b[0m\u001b[1;33m\u001b[0m\u001b[0m\n\u001b[1;32m--> 589\u001b[1;33m                 \u001b[1;32mreturn\u001b[0m \u001b[0mself\u001b[0m\u001b[1;33m.\u001b[0m\u001b[0m_sock\u001b[0m\u001b[1;33m.\u001b[0m\u001b[0mrecv_into\u001b[0m\u001b[1;33m(\u001b[0m\u001b[0mb\u001b[0m\u001b[1;33m)\u001b[0m\u001b[1;33m\u001b[0m\u001b[1;33m\u001b[0m\u001b[0m\n\u001b[0m\u001b[0;32m    590\u001b[0m             \u001b[1;32mexcept\u001b[0m \u001b[0mtimeout\u001b[0m\u001b[1;33m:\u001b[0m\u001b[1;33m\u001b[0m\u001b[1;33m\u001b[0m\u001b[0m\n\u001b[0;32m    591\u001b[0m                 \u001b[0mself\u001b[0m\u001b[1;33m.\u001b[0m\u001b[0m_timeout_occurred\u001b[0m \u001b[1;33m=\u001b[0m \u001b[1;32mTrue\u001b[0m\u001b[1;33m\u001b[0m\u001b[1;33m\u001b[0m\u001b[0m\n",
      "\u001b[1;31mKeyboardInterrupt\u001b[0m: "
     ]
    }
   ],
   "source": [
    "for dir_, data in goods_id.items():\n",
    "    print(f\"开始下载{dir_}\".center(50,'='))\n",
    "    dirpath = 'f:/深度之眼/' + dir_\n",
    "    try:\n",
    "        os.mkdir(dirpath)\n",
    "        os.mkdir(dirpath + '/img')\n",
    "        rint(f'{dirpath}已经创建！')\n",
    "    except:\n",
    "        print(f'{dirpath}已经存在！')\n",
    "    goods_list = get_goodslist(main_api, app_id, data)\n",
    "    for good in goods_list:\n",
    "        video = get_video(page_api, good, app_id)\n",
    "        if video:\n",
    "            title = video.get('title')\n",
    "            if f'{title}.html' not in get_videoslist_from_local(dirpath):\n",
    "                print(f'【下载】{title}')\n",
    "                download_video(video, dirpath)\n",
    "                save_description(video, dirpath)\n",
    "            else:\n",
    "                print(f'【已存在】{title}')\n",
    "# os.system('shutdown -s -t 60')"
   ]
  },
  {
   "cell_type": "code",
   "execution_count": null,
   "metadata": {},
   "outputs": [],
   "source": []
  },
  {
   "cell_type": "code",
   "execution_count": null,
   "metadata": {},
   "outputs": [],
   "source": []
  }
 ],
 "metadata": {
  "hide_input": false,
  "kernelspec": {
   "display_name": "Python 3",
   "language": "python",
   "name": "python3"
  },
  "language_info": {
   "codemirror_mode": {
    "name": "ipython",
    "version": 3
   },
   "file_extension": ".py",
   "mimetype": "text/x-python",
   "name": "python",
   "nbconvert_exporter": "python",
   "pygments_lexer": "ipython3",
   "version": "3.7.4"
  },
  "nbTranslate": {
   "displayLangs": [
    "*"
   ],
   "hotkey": "alt-t",
   "langInMainMenu": true,
   "sourceLang": "en",
   "targetLang": "fr",
   "useGoogleTranslate": true
  },
  "toc": {
   "base_numbering": 1,
   "nav_menu": {},
   "number_sections": true,
   "sideBar": true,
   "skip_h1_title": false,
   "title_cell": "Table of Contents",
   "title_sidebar": "Contents",
   "toc_cell": false,
   "toc_position": {},
   "toc_section_display": true,
   "toc_window_display": false
  },
  "varInspector": {
   "cols": {
    "lenName": 16,
    "lenType": 16,
    "lenVar": 40
   },
   "kernels_config": {
    "python": {
     "delete_cmd_postfix": "",
     "delete_cmd_prefix": "del ",
     "library": "var_list.py",
     "varRefreshCmd": "print(var_dic_list())"
    },
    "r": {
     "delete_cmd_postfix": ") ",
     "delete_cmd_prefix": "rm(",
     "library": "var_list.r",
     "varRefreshCmd": "cat(var_dic_list()) "
    }
   },
   "types_to_exclude": [
    "module",
    "function",
    "builtin_function_or_method",
    "instance",
    "_Feature"
   ],
   "window_display": false
  }
 },
 "nbformat": 4,
 "nbformat_minor": 2
}
