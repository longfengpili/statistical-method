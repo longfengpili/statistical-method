{
 "cells": [
  {
   "cell_type": "code",
   "execution_count": 1,
   "metadata": {
    "ExecuteTime": {
     "end_time": "2019-11-05T02:11:09.373521Z",
     "start_time": "2019-11-05T02:11:09.319523Z"
    }
   },
   "outputs": [],
   "source": [
    "import requests\n",
    "from mysetting import *\n",
    "import json\n",
    "import os"
   ]
  },
  {
   "cell_type": "code",
   "execution_count": 51,
   "metadata": {
    "ExecuteTime": {
     "end_time": "2019-11-05T05:49:52.958237Z",
     "start_time": "2019-11-05T05:49:52.943230Z"
    }
   },
   "outputs": [],
   "source": [
    "def get_videoslist_from_local(dirpath):\n",
    "    return os.listdir(dirpath)\n",
    "    \n",
    "def get_goodslist(url, app_id, data):\n",
    "    params = {'app_id': f'{app_id}'}\n",
    "    goods_list = []\n",
    "    req = requests.post(url, headers=headers, params=params, data=data)\n",
    "    req = json.loads(req.text)\n",
    "    goodslist = req.get('data').get('goods_list')\n",
    "    selection = ['resource_id', 'resource_type', 'title', 'redirect_url']\n",
    "    for good in goodslist:\n",
    "#         print(good)\n",
    "        selection_info = [good.get(key) for key in selection if good.get('video_length', 0) > 0]\n",
    "        good = dict(zip(selection, selection_info))\n",
    "        goods_list.append(good)\n",
    "    return goods_list\n",
    "\n",
    "def get_video(url, good, app_id):\n",
    "    params = {'app_id': f'{app_id}'}\n",
    "    data = {}\n",
    "    data['goods_id'] = good.get('resource_id')\n",
    "    data['goods_type'] = good.get('resource_type')\n",
    "    data = json.dumps(data)\n",
    "    req = requests.post(url, headers=headers, params=params, data=data)\n",
    "    req_info = json.loads(req.text)\n",
    "    video_info = req_info.get('data')\n",
    "    return video_info\n",
    "\n",
    "def download_video(video_info, dirpath):\n",
    "    headers = {\n",
    "        'User-Agent': 'Mozilla/5.0 (Windows NT 10.0; Win64; x64) AppleWebKit/537.36 (KHTML, like Gecko) Chrome/78.0.3904.70 Safari/537.36',\n",
    "    }\n",
    "    title = video_info.get('title')\n",
    "    url = video_info.get('video_url')\n",
    "#     print(title)\n",
    "    req = requests.get(url=url, headers=headers, stream=True)\n",
    "    with open(f'{dirpath}/{title}.mp4', 'wb') as f:\n",
    "        for chunk in req.iter_content(chunk_size=1024*1024*2):  #2M\n",
    "            if chunk: # filter out keep-alive new chunks\n",
    "                f.write(chunk)\n",
    "                f.flush()\n",
    "def save_description(video_info, dirpath):\n",
    "    description = video_info.get('seo_description')\n",
    "    title = video_info.get('title')\n",
    "    description = json.loads(description)\n",
    "#     print(description)\n",
    "    descriptions = []\n",
    "    for desc in description:\n",
    "#         print(desc)\n",
    "        if desc['type'] == 0:\n",
    "            value =desc.get('value')\n",
    "#             if '任务简介' in value:\n",
    "#                 print(value)\n",
    "            t, v = value.split('：', 1)\n",
    "            descriptions.append(f'<h1>{t}</h1><p>{v}</p>')\n",
    "        elif desc['type'] == 1:\n",
    "            img_url = desc.get('value')\n",
    "            img_name = img_url.split('/')[-1]\n",
    "            req = requests.get(url=img_url)\n",
    "            with open(f'{dirpath}/img/{img_name}', 'wb') as f:\n",
    "                f.write(req.content)\n",
    "            descriptions.append(f'<img src=\"./img/{img_name}\" alt=\"{img_name}\" />')\n",
    "    descriptions = '\\n'.join(descriptions)\n",
    "    html = f'''\n",
    "        <!DOCTYPE html>\n",
    "        <html lang=\"en\">\n",
    "        <head>\n",
    "            <meta charset=\"UTF-8\">\n",
    "            <title>{title}</title>\n",
    "        </head>\n",
    "        <body>\n",
    "        {descriptions}\n",
    "        </body> \n",
    "        </html>'''\n",
    "#     print(html)\n",
    "        \n",
    "    with open(f'{dirpath}/{title}.html', 'w', encoding='utf-8') as f:\n",
    "        f.write(html)"
   ]
  },
  {
   "cell_type": "code",
   "execution_count": 52,
   "metadata": {
    "ExecuteTime": {
     "end_time": "2019-11-05T05:50:08.811337Z",
     "start_time": "2019-11-05T05:49:53.591481Z"
    },
    "scrolled": false
   },
   "outputs": [
    {
     "name": "stdout",
     "output_type": "stream",
     "text": [
      "【学前准备】参加开营仪式\n",
      "第一周【任务1】：课程学习绪论\n",
      "第一周【任务1】：第1章导读\n",
      "第一周【任务1】：第1章泛化误差上界\n",
      "第一周【任务1】：第1章极大似然估计和贝叶斯估计\n",
      "第一周【任务2】：第2章感知机模型导读\n",
      "第一周【任务2】：第2章随机梯度下降法\n",
      "第一周【任务2】：第2章算法收敛性\n",
      "第一周【任务3】：第3章导读\n",
      "第一周【作业讲解】：第1章极大似然估计作业\n",
      "第一周【作业讲解】：第1章贝叶斯估计作业\n",
      "第一周【作业讲解】：第2章感知机_sklearn实现\n",
      "第一周【作业讲解】：第2章感知机_自编程实现\n",
      "第一周【作业讲解】：第3章KNN-sklearn\n",
      "第一周【作业讲解】：第3章KNN-自编程\n",
      "第二周【任务1】：第4章导读\n",
      "第二周【任务1】：第4章后验概率最大化\n"
     ]
    }
   ],
   "source": [
    "dirpath = 'e:/深度之眼/statistical_method'\n",
    "goods_list = get_goodslist(main_api, statistical_id, statistical_data)\n",
    "for good in goods_list:\n",
    "    video = get_video(page_api, good, statistical_id)\n",
    "    if video:\n",
    "        title = video.get('title')\n",
    "        print(title)\n",
    "        if f'{title}.mp4' not in get_videoslist_from_local(dirpath):\n",
    "#             download_video(video, dirpath)\n",
    "            save_description(video, dirpath)"
   ]
  },
  {
   "cell_type": "code",
   "execution_count": null,
   "metadata": {},
   "outputs": [],
   "source": []
  }
 ],
 "metadata": {
  "hide_input": false,
  "kernelspec": {
   "display_name": "Python 3",
   "language": "python",
   "name": "python3"
  },
  "language_info": {
   "codemirror_mode": {
    "name": "ipython",
    "version": 3
   },
   "file_extension": ".py",
   "mimetype": "text/x-python",
   "name": "python",
   "nbconvert_exporter": "python",
   "pygments_lexer": "ipython3",
   "version": "3.7.3"
  },
  "nbTranslate": {
   "displayLangs": [
    "*"
   ],
   "hotkey": "alt-t",
   "langInMainMenu": true,
   "sourceLang": "en",
   "targetLang": "fr",
   "useGoogleTranslate": true
  },
  "toc": {
   "base_numbering": 1,
   "nav_menu": {},
   "number_sections": true,
   "sideBar": true,
   "skip_h1_title": false,
   "title_cell": "Table of Contents",
   "title_sidebar": "Contents",
   "toc_cell": false,
   "toc_position": {},
   "toc_section_display": true,
   "toc_window_display": false
  },
  "varInspector": {
   "cols": {
    "lenName": 16,
    "lenType": 16,
    "lenVar": 40
   },
   "kernels_config": {
    "python": {
     "delete_cmd_postfix": "",
     "delete_cmd_prefix": "del ",
     "library": "var_list.py",
     "varRefreshCmd": "print(var_dic_list())"
    },
    "r": {
     "delete_cmd_postfix": ") ",
     "delete_cmd_prefix": "rm(",
     "library": "var_list.r",
     "varRefreshCmd": "cat(var_dic_list()) "
    }
   },
   "types_to_exclude": [
    "module",
    "function",
    "builtin_function_or_method",
    "instance",
    "_Feature"
   ],
   "window_display": false
  }
 },
 "nbformat": 4,
 "nbformat_minor": 2
}
