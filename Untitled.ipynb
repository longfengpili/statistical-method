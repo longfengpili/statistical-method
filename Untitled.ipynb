{
 "cells": [
  {
   "cell_type": "code",
   "execution_count": 1,
   "metadata": {
    "ExecuteTime": {
     "end_time": "2019-11-13T00:05:32.862764Z",
     "start_time": "2019-11-13T00:05:32.746077Z"
    }
   },
   "outputs": [],
   "source": [
    "import requests\n",
    "from mysetting import *\n",
    "import json\n",
    "import os"
   ]
  },
  {
   "cell_type": "code",
   "execution_count": 2,
   "metadata": {
    "ExecuteTime": {
     "end_time": "2019-11-13T00:05:32.892691Z",
     "start_time": "2019-11-13T00:05:32.865756Z"
    }
   },
   "outputs": [],
   "source": [
    "def get_videoslist_from_local(dirpath):\n",
    "    return os.listdir(dirpath)\n",
    "\n",
    "def get_info_from_api(api, headers, params, data):\n",
    "    req = requests.post(api, headers=headers, params=params, data=data)\n",
    "    req = json.loads(req.text)\n",
    "    return req\n",
    "\n",
    "def parse_goodslist(req):\n",
    "    goods_list = []\n",
    "    id = 1\n",
    "    try:\n",
    "        goodslist = req.get('data').get('goods_list')\n",
    "#         print(goodslist)\n",
    "        last_id = req.get('data').get('last_id')\n",
    "        selection = ['resource_id', 'resource_type', 'title', 'redirect_url']\n",
    "        for good in goodslist:\n",
    "#             print(f'【{id}】{good}')\n",
    "            id += 1\n",
    "            selection_info = [good.get(key) for key in selection if good.get('video_length', 0) > 0]\n",
    "            good = dict(zip(selection, selection_info))\n",
    "            goods_list.append(good)\n",
    "    except:\n",
    "        pass\n",
    "    return goods_list, last_id\n",
    "    \n",
    "    \n",
    "def get_goodslist(url, headers, app_id, data):\n",
    "    params = {'app_id': f'{app_id}'}\n",
    "    goods_list_all = []\n",
    "    req = get_info_from_api(url, headers, params, data)\n",
    "#     print(req)\n",
    "    goods_list, last_id = parse_goodslist(req)\n",
    "    goods_list_all.extend(goods_list)\n",
    "\n",
    "    while len(goods_list_all) == 20:\n",
    "        data = json.loads(data)\n",
    "        data['last_id'] = last_id\n",
    "        data['order_type'] = 0\n",
    "        data = json.dumps(data)\n",
    "        req = get_info_from_api(url, headers, params, data)\n",
    "        goods_list, last_id = parse_goodslist(req)\n",
    "        goods_list_all.extend(goods_list)\n",
    "        \n",
    "#     if not goods_list_all: print(req)\n",
    "    \n",
    "    return goods_list_all\n",
    "\n",
    "def get_video(url, headers, good, app_id):\n",
    "#     print(url)\n",
    "    params = {'app_id': f'{app_id}'}\n",
    "    data = {}\n",
    "    data['goods_id'] = good.get('resource_id')\n",
    "    data['goods_type'] = good.get('resource_type')\n",
    "    data = json.dumps(data)\n",
    "    req_info = get_info_from_api(url, headers, params, data)\n",
    "#     print(req_info)\n",
    "    video_info = req_info.get('data')\n",
    "    return video_info\n",
    "\n",
    "def download_video(video_info, dirpath):\n",
    "    headers = {\n",
    "        'User-Agent': 'Mozilla/5.0 (Windows NT 10.0; Win64; x64) AppleWebKit/537.36 (KHTML, like Gecko) Chrome/78.0.3904.70 Safari/537.36',\n",
    "    }\n",
    "    title = video_info.get('title')\n",
    "    url = video_info.get('video_url')\n",
    "#     print(title)\n",
    "    req = requests.get(url=url, headers=headers, stream=True)\n",
    "    with open(f'{dirpath}/{title}.mp4', 'wb') as f:\n",
    "        for chunk in req.iter_content(chunk_size=1024*1024*2):  #2M\n",
    "            if chunk: # filter out keep-alive new chunks\n",
    "                f.write(chunk)\n",
    "                f.flush()\n",
    "def save_description(video_info, dirpath):\n",
    "    description = video_info.get('seo_description')\n",
    "    title = video_info.get('title')\n",
    "    description = json.loads(description)\n",
    "#     print(description)\n",
    "    descriptions = []\n",
    "    for desc in description:\n",
    "#         print(desc)\n",
    "        if desc['type'] == 0:\n",
    "            value =desc.get('value')\n",
    "#             if '任务简介' in value:\n",
    "#                 print(value)\n",
    "            try:\n",
    "                t, v = value.split('：', 1)\n",
    "            except:\n",
    "                t = 'temp_title'\n",
    "                v = value\n",
    "            descriptions.append(f'<h1>{t}</h1><p>{v}</p>')\n",
    "        elif desc['type'] == 1:\n",
    "            img_url = desc.get('value')\n",
    "            img_name = img_url.split('/')[-1]\n",
    "            req = requests.get(url=img_url)\n",
    "            with open(f'{dirpath}/img/{img_name}', 'wb') as f:\n",
    "                f.write(req.content)\n",
    "            descriptions.append(f'<img src=\"./img/{img_name}\" alt=\"{img_name}\" />')\n",
    "    descriptions = '\\n'.join(descriptions)\n",
    "    html = f'''\n",
    "        <!DOCTYPE html>\n",
    "        <html lang=\"en\">\n",
    "        <head>\n",
    "            <meta charset=\"UTF-8\">\n",
    "            <title>{title}</title>\n",
    "        </head>\n",
    "        <body>\n",
    "        {descriptions}\n",
    "        </body> \n",
    "        </html>'''\n",
    "#     print(html)\n",
    "        \n",
    "    with open(f'{dirpath}/{title}.html', 'w', encoding='utf-8') as f:\n",
    "        f.write(html)"
   ]
  },
  {
   "cell_type": "code",
   "execution_count": 4,
   "metadata": {
    "ExecuteTime": {
     "end_time": "2019-11-13T00:11:22.831091Z",
     "start_time": "2019-11-13T00:08:35.038601Z"
    },
    "scrolled": false
   },
   "outputs": [
    {
     "name": "stdout",
     "output_type": "stream",
     "text": [
      "=================开始下载statistical==================\n",
      "f:/深度之眼/statistical已经存在！\n",
      "【下载】第三周【任务1】：第6章改进的迭代尺度法\n",
      "===============开始下载deeplearn_flower===============\n",
      "f:/深度之眼/deeplearn_flower已经存在！\n",
      "==================开始下载actual_ml===================\n",
      "f:/深度之眼/actual_ml已经存在！\n",
      "=================开始下载competition==================\n",
      "f:/深度之眼/competition已经存在！\n",
      "================开始下载ai_python_base================\n",
      "f:/深度之眼/ai_python_base已经存在！\n",
      "==============开始下载stanford_CS224n_cv==============\n",
      "f:/深度之眼/stanford_CS224n_cv已经存在！\n",
      "==================开始下载paper_nlp===================\n",
      "f:/深度之眼/paper_nlp已经存在！\n",
      "===================开始下载paper_cv===================\n",
      "f:/深度之眼/paper_cv已经存在！\n"
     ]
    }
   ],
   "source": [
    "try:\n",
    "    for dir_, data in goods_id.items():\n",
    "        print(f\"开始下载{dir_}\".center(50,'='))\n",
    "        dirpath = 'f:/深度之眼/' + dir_\n",
    "        try:\n",
    "            os.mkdir(dirpath)\n",
    "            os.mkdir(dirpath + '/img')\n",
    "            rint(f'{dirpath}已经创建！')\n",
    "        except:\n",
    "            print(f'{dirpath}已经存在！')\n",
    "        goods_list = get_goodslist(main_api, headers, app_id, data)\n",
    "        for good in goods_list:\n",
    "#             print(good)\n",
    "            video = get_video(page_api, headers, good, app_id)\n",
    "            if video:\n",
    "                title = video.get('title')\n",
    "                if f'{title}.html' not in get_videoslist_from_local(dirpath):\n",
    "                    print(f'【下载】{title}')\n",
    "                    download_video(video, dirpath)\n",
    "                    save_description(video, dirpath)\n",
    "                else:\n",
    "    #                 print(f'【已存在】{title}')\n",
    "                    pass\n",
    "except:\n",
    "    pass\n",
    "\n",
    "# os.system('shutdown -s -t 60')"
   ]
  },
  {
   "cell_type": "code",
   "execution_count": null,
   "metadata": {},
   "outputs": [],
   "source": []
  },
  {
   "cell_type": "code",
   "execution_count": null,
   "metadata": {},
   "outputs": [],
   "source": []
  }
 ],
 "metadata": {
  "hide_input": false,
  "kernelspec": {
   "display_name": "Python 3",
   "language": "python",
   "name": "python3"
  },
  "language_info": {
   "codemirror_mode": {
    "name": "ipython",
    "version": 3
   },
   "file_extension": ".py",
   "mimetype": "text/x-python",
   "name": "python",
   "nbconvert_exporter": "python",
   "pygments_lexer": "ipython3",
   "version": "3.7.4"
  },
  "nbTranslate": {
   "displayLangs": [
    "*"
   ],
   "hotkey": "alt-t",
   "langInMainMenu": true,
   "sourceLang": "en",
   "targetLang": "fr",
   "useGoogleTranslate": true
  },
  "toc": {
   "base_numbering": 1,
   "nav_menu": {},
   "number_sections": true,
   "sideBar": true,
   "skip_h1_title": false,
   "title_cell": "Table of Contents",
   "title_sidebar": "Contents",
   "toc_cell": false,
   "toc_position": {},
   "toc_section_display": true,
   "toc_window_display": false
  },
  "varInspector": {
   "cols": {
    "lenName": 16,
    "lenType": 16,
    "lenVar": 40
   },
   "kernels_config": {
    "python": {
     "delete_cmd_postfix": "",
     "delete_cmd_prefix": "del ",
     "library": "var_list.py",
     "varRefreshCmd": "print(var_dic_list())"
    },
    "r": {
     "delete_cmd_postfix": ") ",
     "delete_cmd_prefix": "rm(",
     "library": "var_list.r",
     "varRefreshCmd": "cat(var_dic_list()) "
    }
   },
   "types_to_exclude": [
    "module",
    "function",
    "builtin_function_or_method",
    "instance",
    "_Feature"
   ],
   "window_display": false
  }
 },
 "nbformat": 4,
 "nbformat_minor": 2
}
