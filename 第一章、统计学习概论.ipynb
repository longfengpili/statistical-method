{
 "cells": [
  {
   "cell_type": "markdown",
   "metadata": {},
   "source": [
    "# 机器学习主要分类"
   ]
  },
  {
   "cell_type": "markdown",
   "metadata": {},
   "source": [
    "+ 监督学习\n",
    "+ 无监督学习 （分类、关联规则、维度缩减），例如图片降噪\n",
    "+ 半监督学习\n",
    "+ 强化学习 强调如何基于环境而行动，以取得最大化的预期收益"
   ]
  },
  {
   "cell_type": "markdown",
   "metadata": {},
   "source": [
    "# 统计学习"
   ]
  },
  {
   "cell_type": "markdown",
   "metadata": {},
   "source": [
    "+ 监督学习的实现步骤:\n",
    " 1. 得到一个有限的训练上数据集合\n",
    " 2. 确定模型的假设空间,也就是所有的备选模型\n",
    " 3. 确定模型的选择的准则,即学习的策略\n",
    " 4. 实现求解的最优模型的算法\n",
    " 5. 通过学习方法选择最优模型\n",
    " 6. 利用学习的最优模型对新数据进行预测或分析\n",
    " ![](1_2.png)\n",
    " > 上图中应该为 $\\arg \\max _{y} P(y | x)$"
   ]
  },
  {
   "cell_type": "markdown",
   "metadata": {},
   "source": [
    "# 统计学习三要素"
   ]
  },
  {
   "cell_type": "markdown",
   "metadata": {},
   "source": [
    "## 模型(假设空间)\n",
    "+ 决策函数\n",
    "$$\n",
    "F=\\left\\{f | Y=f_{\\theta}(X), \\theta \\in R^{n}\\right\\}\n",
    "$$\n",
    "> 假设$Y = a_0 + a_1X$,  $\\theta = (a_0, a_1)^T$\n",
    "+ 条件概率分布\n",
    "$$\n",
    "F=\\left\\{P\\left|P_{\\theta}(Y | X), \\theta \\in R^{n}\\right\\}\\right.\n",
    "$$\n",
    "> 假设$y \\sim N\\left(a_{0}+a_{1}X, \\sigma^{2}\\right)$,  $\\theta = (a_0, a_1)^T$"
   ]
  },
  {
   "cell_type": "markdown",
   "metadata": {},
   "source": [
    "## 策略\n",
    "+ 损失函数  \n",
    "$L(Y, f(X))=\\left\\{\\begin{array}{l}{1, Y \\neq f(X)} \\\\ {0, Y=f(X)}\\end{array}\\right.$   \n",
    "$L(Y, f(X))=|Y-f(X)|$  \n",
    "$L(Y, f(X))=|Y-f(X)|^{2}$  \n",
    "$L(Y, P(Y | X))=-\\log P(Y | X)$"
   ]
  },
  {
   "cell_type": "markdown",
   "metadata": {},
   "source": [
    "## 准则\n",
    "+ 经验风险最小化\n",
    "$$\n",
    "\\min _{f \\in F} \\frac{1}{N} \\sum_{i=1}^{N} L\\left(y_{i}, f\\left(x_{i}\\right)\\right)\n",
    "$$\n",
    "+ 结构风险最小化\n",
    "$$\n",
    "\\min _{f \\in F} \\frac{1}{N} \\sum_{i=1}^{N} L\\left(y_{i}, f\\left(x_{i}\\right)\\right)+\\lambda J(f)\n",
    "$$"
   ]
  },
  {
   "cell_type": "markdown",
   "metadata": {},
   "source": [
    "# 模型评估和模型选择"
   ]
  },
  {
   "cell_type": "markdown",
   "metadata": {},
   "source": [
    "+ 训练误差\n",
    "$$\n",
    "\\frac{1}{N} \\sum_{i=1}^{N} L\\left(y_{i}, \\widehat{f}\\left(x_{i}\\right)\\right)\n",
    "$$\n",
    "+ 测试误差\n",
    "$$\n",
    "\\frac{1}{N^{\\prime}} \\sum_{i=1}^{N^{\\prime}} L\\left(y_{i}, \\widehat{f}\\left(x_{i}\\right)\\right)\n",
    "$$"
   ]
  },
  {
   "cell_type": "markdown",
   "metadata": {},
   "source": [
    "# 正则化与交叉验证"
   ]
  },
  {
   "cell_type": "markdown",
   "metadata": {},
   "source": [
    "+ 最小化结构风险\n",
    "$$\n",
    "\\min _{f \\in F} \\frac{1}{N} \\sum_{i=1}^{N} L\\left(y_{i}, f\\left(x_{i}\\right)\\right)+\\lambda J(f)\n",
    "$$\n",
    "+ 交叉验证\n"
   ]
  },
  {
   "cell_type": "markdown",
   "metadata": {},
   "source": [
    "# 泛化能力"
   ]
  },
  {
   "cell_type": "markdown",
   "metadata": {},
   "source": [
    "+ 泛化误差上界\n",
    ">对于二分类问题,当假设空间是有限个函数的集合$F={f_{1}, f_{2}, \\cdots, f_{d}}$时,对任意一个函数$f \\in F$,至少以概率$1-\\delta$,以下不等式成立:  \n",
    "$$\n",
    "R(f) \\leq \\widehat{R}(f)+\\varepsilon(d, N, \\delta)\n",
    "$$\n",
    "其中,\n",
    "$$\n",
    "\\varepsilon(d, N, \\delta)=\\sqrt{\\frac{1}{2 N}\\left(\\log d+\\log \\frac{1}{\\delta}\\right)}\n",
    "$$\n",
    "$$R(f)是期望风险，\\widehat{R}(f)经验风险$$\n",
    "$$\n",
    "\\hat{R}(f)=\\frac{1}{N} \\sum_{i=1}^n L\\left(y_{i}, f\\left(x_{i}\\right)\\right)\n",
    "$$"
   ]
  },
  {
   "cell_type": "markdown",
   "metadata": {},
   "source": [
    "+ "
   ]
  },
  {
   "cell_type": "markdown",
   "metadata": {},
   "source": [
    "# 生成模型与判别模型"
   ]
  },
  {
   "cell_type": "markdown",
   "metadata": {},
   "source": [
    "+ 生成方法\n",
    "$$\n",
    "P(Y | X)=\\frac{P(X, Y)}{P(X)}\n",
    "$$\n",
    "+ 判别方法\n",
    "$$\n",
    "f(X) 或 P(Y | X)\n",
    "$$"
   ]
  },
  {
   "cell_type": "markdown",
   "metadata": {},
   "source": [
    "# 分类数据"
   ]
  },
  {
   "cell_type": "markdown",
   "metadata": {},
   "source": [
    ">TP 将正类预测为正类  \n",
    "FN 将正类预测为负类  \n",
    "TN 将负类预测为负类  \n",
    "FN 将负类预测为正类  \n",
    "  \n",
    "+ 精确类\n",
    "$$\n",
    "P=\\frac{T P}{T P+F P}\n",
    "$$\n",
    "+ 召回率\n",
    "$$\n",
    "R=\\frac{T P}{T P+F N}\n",
    "$$"
   ]
  },
  {
   "cell_type": "markdown",
   "metadata": {},
   "source": [
    "# 标注问题\n",
    "![](1_3.png)"
   ]
  },
  {
   "cell_type": "markdown",
   "metadata": {},
   "source": [
    "# 回归问题"
   ]
  },
  {
   "cell_type": "markdown",
   "metadata": {},
   "source": [
    "# 作业"
   ]
  },
  {
   "cell_type": "markdown",
   "metadata": {},
   "source": [
    "+ 推导下述正态分布均值的极大似然估计和贝叶斯估计\n",
    "+ 数据$x_1, ...,x_n$来自正态分布$\\mathrm{N}\\left(\\mu, \\sigma^{2}\\right)$,其中$\\sigma^2$已知。\n",
    "    1. 根据样本$x_1, ...,x_n$写出$\\mu$的极大似然估计\n",
    "    2. 假设$\\mu$的先验分布是正态分布$\\mathrm{N}\\left(0, \\tau^{2}\\right)$，根据样本$x_1, ...,x_n$写出$\\mu$的贝叶斯估计。\n",
    "![](./img/1_作业_1.png)\n",
    "![](./img/1_作业_2.png)"
   ]
  },
  {
   "cell_type": "markdown",
   "metadata": {},
   "source": [
    "1.  根据样本$x_1, ...,x_n$写出$\\mu$的极大似然估计\n",
    "    + 似然函数\n",
    "    $$\n",
    "    L\\left(\\mu, \\sigma^{2}\\right)=\\prod_{i=1}^{N} \\frac{1}{\\sqrt{2 \\pi} \\sigma} e^{-\\frac{\\left(x_{i}-\\mu\\right)^{2}}{2 \\sigma^{2}}}=\\left(2 \\pi \\sigma^{2}\\right)^{-\\frac{n}{2}} e^{-\\frac{1}{2 \\sigma^{2}} \\sum_{i=1}^{n}\\left(x_{i}-\\mu\\right)^{2}}\n",
    "    $$\n",
    "    + 求对数\n",
    "    $$\n",
    "    \\ln L\\left(\\mu, \\sigma^{2}\\right)=-\\frac{n}{2} \\ln (2 \\pi)-\\frac{n}{2} \\ln \\left(\\sigma^{2}\\right)-\\frac{1}{2 \\sigma^{2}} \\sum_{i=1}^{n}\\left(x_{i}-\\mu\\right)^{2}\n",
    "    $$\n",
    "    + 求导，得方程组：\n",
    "    $$\n",
    "    \\left\\{\\begin{array}{l}{\\frac{\\partial \\ln L\\left(\\mu, \\sigma^{2}\\right)}{\\partial \\mu}=\\frac{1}{\\sigma^{2}} \\sum_{i=1}^{n}\\left(x_{i}-\\mu\\right) \\quad=0} \\\\ {\\frac{\\partial \\ln L\\left(\\mu, \\sigma^{2}\\right)}{\\partial \\sigma^{2}}=-\\frac{n}{2 \\sigma^{2}}+\\frac{1}{2 \\sigma^{4}} \\sum_{i=1}^{n}\\left(x_{i}-\\mu\\right)^{2}=0}\\end{array}\\right.\n",
    "    $$\n",
    "    + 联合\n",
    "    $$\n",
    "    \\left\\{\\begin{array}{l}{\\mu^{*}=\\bar{x}=\\frac{1}{n} \\sum_{i=1}^{n} x_{i}} \\\\ {\\sigma^{* 2}=\\frac{1}{n} \\sum_{i=1}^{n}\\left(x_{i}-\\bar{x}\\right)^{2}}\\end{array}\\right.\n",
    "    $$"
   ]
  },
  {
   "cell_type": "markdown",
   "metadata": {},
   "source": [
    "2. 假设$\\mu$的先验分布是正态分布$\\mathrm{N}\\left(0, \\tau^{2}\\right)$，根据样本$x_1, ...,x_n$写出$\\mu$的贝叶斯估计。\n",
    "![](./img/1_作业_3.png)\n",
    "![](./img/1_作业_4.png)\n",
    "![](./img/1_作业_5.png)\n",
    "![](./img/1_作业_6.png)"
   ]
  },
  {
   "cell_type": "code",
   "execution_count": null,
   "metadata": {},
   "outputs": [],
   "source": []
  }
 ],
 "metadata": {
  "hide_input": false,
  "kernelspec": {
   "display_name": "Python 3",
   "language": "python",
   "name": "python3"
  },
  "language_info": {
   "codemirror_mode": {
    "name": "ipython",
    "version": 3
   },
   "file_extension": ".py",
   "mimetype": "text/x-python",
   "name": "python",
   "nbconvert_exporter": "python",
   "pygments_lexer": "ipython3",
   "version": "3.7.3"
  },
  "nbTranslate": {
   "displayLangs": [
    "*"
   ],
   "hotkey": "alt-t",
   "langInMainMenu": true,
   "sourceLang": "en",
   "targetLang": "fr",
   "useGoogleTranslate": true
  },
  "toc": {
   "base_numbering": 1,
   "nav_menu": {},
   "number_sections": true,
   "sideBar": true,
   "skip_h1_title": false,
   "title_cell": "Table of Contents",
   "title_sidebar": "Contents",
   "toc_cell": false,
   "toc_position": {},
   "toc_section_display": true,
   "toc_window_display": true
  },
  "varInspector": {
   "cols": {
    "lenName": 16,
    "lenType": 16,
    "lenVar": 40
   },
   "kernels_config": {
    "python": {
     "delete_cmd_postfix": "",
     "delete_cmd_prefix": "del ",
     "library": "var_list.py",
     "varRefreshCmd": "print(var_dic_list())"
    },
    "r": {
     "delete_cmd_postfix": ") ",
     "delete_cmd_prefix": "rm(",
     "library": "var_list.r",
     "varRefreshCmd": "cat(var_dic_list()) "
    }
   },
   "types_to_exclude": [
    "module",
    "function",
    "builtin_function_or_method",
    "instance",
    "_Feature"
   ],
   "window_display": false
  }
 },
 "nbformat": 4,
 "nbformat_minor": 2
}
