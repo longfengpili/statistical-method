{
 "cells": [
  {
   "cell_type": "markdown",
   "metadata": {},
   "source": [
    "# 拉格朗日对偶性"
   ]
  },
  {
   "cell_type": "markdown",
   "metadata": {},
   "source": [
    "$$\n",
    "\\begin{array}{ll}{\\min _{x \\in R^{n}}} & {f(x)} \\\\ {\\text { s.t. }} & {c_{i}(x) \\leqslant 0, \\quad i=1,2, \\cdots, k} \\\\ {} & {h_{j}(x)=0, \\quad j=1,2, \\cdots, l}\\end{array}\n",
    "$$\n",
    "$$\n",
    "L(x, \\alpha, \\beta)=f(x)+\\sum_{i=1}^{k} \\alpha_{i} c_{i}(x)+\\sum_{j=1}^{l} \\beta_{j} h_{j(x)}\n",
    "$$\n",
    "$$\n",
    "P={\\min_x \\max _{\\alpha \\beta} L(x, \\alpha, \\beta)}\\{^{f(x), \\quad c_{i}(x) \\leqslant 0, h_{j}(x)=0}_{\\infty, 其他}\n",
    "$$"
   ]
  },
  {
   "cell_type": "markdown",
   "metadata": {
    "ExecuteTime": {
     "end_time": "2019-11-21T23:25:27.164787Z",
     "start_time": "2019-11-21T23:25:27.156352Z"
    }
   },
   "source": [
    "$$\n",
    "d^*=\\max _{\\alpha \\beta} {\\min _{x} L(x, \\alpha, \\beta)} \\leqslant \\max _{\\alpha \\beta} \\min _{x \\in 可行域} L(x, \\alpha, \\beta) \\leqslant \\max _{\\alpha, \\beta} \\min _{x \\in可行域  } f(x) = P^*\n",
    "$$"
   ]
  },
  {
   "cell_type": "markdown",
   "metadata": {},
   "source": [
    "\n",
    "$$\n",
    "\\left\\{\\begin{array}{l}{原凸优化问题{\\{^{可行域是图集}_{f(x)是凸函数}}} \\\\ {slater条件(不等式约束集有交集)}\\end{array}    \\Rightarrow d^{*}=p^{*}（强对偶性）=L(x^*, \\alpha^*, \\beta^*)\\right.\n",
    "$$"
   ]
  },
  {
   "cell_type": "markdown",
   "metadata": {},
   "source": [
    "$$\n",
    "KKT条件\\left\\{\\begin{array}{l}{\\nabla_{x} L\\left(x^{x}, \\alpha^{x}, \\beta^{x}\\right)=0} \\\\ {\\alpha_{i}^{x} c_{i}\\left(x^{x}\\right)=0} \\\\ {c_{i}\\left(x^{x}\\right) \\leq 0} \\\\ {\\alpha_{i}^{x} \\geqslant 0} \\\\ {h_{j}\\left(x^{j}\\right)=0}\\end{array}\\right.\n",
    "$$ "
   ]
  },
  {
   "cell_type": "markdown",
   "metadata": {},
   "source": [
    "# 改进的迭代尺度法"
   ]
  },
  {
   "cell_type": "markdown",
   "metadata": {},
   "source": [
    "$$\n",
    "L(w)=\\sum_{x, y} \\tilde{P}(x, y) \\sum_{i=1}^{n} w_{i} f_{i}(x, y)-\\sum_{x} \\tilde{p}(x) \\ln z_{w}(x)\n",
    "$$"
   ]
  },
  {
   "cell_type": "markdown",
   "metadata": {},
   "source": [
    "# 作业"
   ]
  },
  {
   "cell_type": "markdown",
   "metadata": {},
   "source": [
    "![](./img/7_5.png)\n",
    "![](./img/7_6.png)"
   ]
  },
  {
   "cell_type": "code",
   "execution_count": null,
   "metadata": {},
   "outputs": [],
   "source": []
  }
 ],
 "metadata": {
  "hide_input": false,
  "kernelspec": {
   "display_name": "Python 3",
   "language": "python",
   "name": "python3"
  },
  "language_info": {
   "codemirror_mode": {
    "name": "ipython",
    "version": 3
   },
   "file_extension": ".py",
   "mimetype": "text/x-python",
   "name": "python",
   "nbconvert_exporter": "python",
   "pygments_lexer": "ipython3",
   "version": "3.7.4"
  },
  "nbTranslate": {
   "displayLangs": [
    "*"
   ],
   "hotkey": "alt-t",
   "langInMainMenu": true,
   "sourceLang": "en",
   "targetLang": "fr",
   "useGoogleTranslate": true
  },
  "toc": {
   "base_numbering": 1,
   "nav_menu": {},
   "number_sections": true,
   "sideBar": true,
   "skip_h1_title": false,
   "title_cell": "Table of Contents",
   "title_sidebar": "Contents",
   "toc_cell": false,
   "toc_position": {},
   "toc_section_display": true,
   "toc_window_display": false
  },
  "varInspector": {
   "cols": {
    "lenName": 16,
    "lenType": 16,
    "lenVar": 40
   },
   "kernels_config": {
    "python": {
     "delete_cmd_postfix": "",
     "delete_cmd_prefix": "del ",
     "library": "var_list.py",
     "varRefreshCmd": "print(var_dic_list())"
    },
    "r": {
     "delete_cmd_postfix": ") ",
     "delete_cmd_prefix": "rm(",
     "library": "var_list.r",
     "varRefreshCmd": "cat(var_dic_list()) "
    }
   },
   "types_to_exclude": [
    "module",
    "function",
    "builtin_function_or_method",
    "instance",
    "_Feature"
   ],
   "window_display": false
  }
 },
 "nbformat": 4,
 "nbformat_minor": 2
}
